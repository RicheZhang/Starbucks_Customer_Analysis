{
 "cells": [
  {
   "cell_type": "markdown",
   "metadata": {},
   "source": [
    "# Starbucks Capstone Challenge\n",
    "\n",
    "### Introduction\n",
    "\n",
    "This data set contains simulated data that mimics customer behavior on the Starbucks rewards mobile app. Once every few days, Starbucks sends out an offer to users of the mobile app. An offer can be merely an advertisement for a drink or an actual offer such as a discount or BOGO (buy one get one free). Some users might not receive any offer during certain weeks. \n",
    "\n",
    "Not all users receive the same offer, and that is the challenge to solve with this data set.\n",
    "\n",
    "Your task is to combine transaction, demographic and offer data to determine which demographic groups respond best to which offer type. This data set is a simplified version of the real Starbucks app because the underlying simulator only has one product whereas Starbucks actually sells dozens of products.\n",
    "\n",
    "Every offer has a validity period before the offer expires. As an example, a BOGO offer might be valid for only 5 days. You'll see in the data set that informational offers have a validity period even though these ads are merely providing information about a product; for example, if an informational offer has 7 days of validity, you can assume the customer is feeling the influence of the offer for 7 days after receiving the advertisement.\n",
    "\n",
    "You'll be given transactional data showing user purchases made on the app including the timestamp of purchase and the amount of money spent on a purchase. This transactional data also has a record for each offer that a user receives as well as a record for when a user actually views the offer. There are also records for when a user completes an offer. \n",
    "\n",
    "Keep in mind as well that someone using the app might make a purchase through the app without having received an offer or seen an offer.\n",
    "\n",
    "### Example\n",
    "\n",
    "To give an example, a user could receive a discount offer buy 10 dollars get 2 off on Monday. The offer is valid for 10 days from receipt. If the customer accumulates at least 10 dollars in purchases during the validity period, the customer completes the offer.\n",
    "\n",
    "However, there are a few things to watch out for in this data set. Customers do not opt into the offers that they receive; in other words, a user can receive an offer, never actually view the offer, and still complete the offer. For example, a user might receive the \"buy 10 dollars get 2 dollars off offer\", but the user never opens the offer during the 10 day validity period. The customer spends 15 dollars during those ten days. There will be an offer completion record in the data set; however, the customer was not influenced by the offer because the customer never viewed the offer.\n",
    "\n",
    "### Cleaning\n",
    "\n",
    "This makes data cleaning especially important and tricky.\n",
    "\n",
    "You'll also want to take into account that some demographic groups will make purchases even if they don't receive an offer. From a business perspective, if a customer is going to make a 10 dollar purchase without an offer anyway, you wouldn't want to send a buy 10 dollars get 2 dollars off offer. You'll want to try to assess what a certain demographic group will buy when not receiving any offers.\n",
    "\n",
    "### Final Advice\n",
    "\n",
    "Because this is a capstone project, you are free to analyze the data any way you see fit. For example, you could build a machine learning model that predicts how much someone will spend based on demographics and offer type. Or you could build a model that predicts whether or not someone will respond to an offer. Or, you don't need to build a machine learning model at all. You could develop a set of heuristics that determine what offer you should send to each customer (i.e., 75 percent of women customers who were 35 years old responded to offer A vs 40 percent from the same demographic to offer B, so send offer A)."
   ]
  },
  {
   "cell_type": "markdown",
   "metadata": {},
   "source": [
    "# Data Sets\n",
    "\n",
    "The data is contained in three files:\n",
    "\n",
    "* portfolio.json - containing offer ids and meta data about each offer (duration, type, etc.)\n",
    "* profile.json - demographic data for each customer\n",
    "* transcript.json - records for transactions, offers received, offers viewed, and offers completed\n",
    "\n",
    "Here is the schema and explanation of each variable in the files:\n",
    "\n",
    "**portfolio.json**\n",
    "* id (string) - offer id\n",
    "* offer_type (string) - type of offer ie BOGO, discount, informational\n",
    "* difficulty (int) - minimum required spend to complete an offer\n",
    "* reward (int) - reward given for completing an offer\n",
    "* duration (int) - time for offer to be open, in days\n",
    "* channels (list of strings)\n",
    "\n",
    "**profile.json**\n",
    "* age (int) - age of the customer \n",
    "* became_member_on (int) - date when customer created an app account\n",
    "* gender (str) - gender of the customer (note some entries contain 'O' for other rather than M or F)\n",
    "* id (str) - customer id\n",
    "* income (float) - customer's income\n",
    "\n",
    "**transcript.json**\n",
    "* event (str) - record description (ie transaction, offer received, offer viewed, etc.)\n",
    "* person (str) - customer id\n",
    "* time (int) - time in hours since start of test. The data begins at time t=0\n",
    "* value - (dict of strings) - either an offer id or transaction amount depending on the record\n",
    "\n",
    "**Note:** If you are using the workspace, you will need to go to the terminal and run the command `conda update pandas` before reading in the files. This is because the version of pandas in the workspace cannot read in the transcript.json file correctly, but the newest version of pandas can. You can access the termnal from the orange icon in the top left of this notebook.  \n",
    "\n",
    "You can see how to access the terminal and how the install works using the two images below.  First you need to access the terminal:\n",
    "\n",
    "<img src=\"pic1.png\"/>\n",
    "\n",
    "Then you will want to run the above command:\n",
    "\n",
    "<img src=\"pic2.png\"/>\n",
    "\n",
    "Finally, when you enter back into the notebook (use the jupyter icon again), you should be able to run the below cell without any errors."
   ]
  },
  {
   "cell_type": "code",
   "execution_count": 1,
   "metadata": {},
   "outputs": [],
   "source": [
    "import pandas as pd\n",
    "import numpy as np\n",
    "import math\n",
    "import json\n",
    "import datetime\n",
    "import time\n",
    "\n",
    "%matplotlib inline"
   ]
  },
  {
   "cell_type": "code",
   "execution_count": 2,
   "metadata": {},
   "outputs": [],
   "source": [
    "# read in the json files\n",
    "portfolio = pd.read_json('data/portfolio.json', orient='records', lines=True)\n",
    "profile = pd.read_json('data/profile.json', orient='records', lines=True)\n",
    "transcript = pd.read_json('data/transcript.json', orient='records', lines=True)"
   ]
  },
  {
   "cell_type": "code",
   "execution_count": 3,
   "metadata": {
    "scrolled": true
   },
   "outputs": [
    {
     "data": {
      "text/html": [
       "<div>\n",
       "<style scoped>\n",
       "    .dataframe tbody tr th:only-of-type {\n",
       "        vertical-align: middle;\n",
       "    }\n",
       "\n",
       "    .dataframe tbody tr th {\n",
       "        vertical-align: top;\n",
       "    }\n",
       "\n",
       "    .dataframe thead th {\n",
       "        text-align: right;\n",
       "    }\n",
       "</style>\n",
       "<table border=\"1\" class=\"dataframe\">\n",
       "  <thead>\n",
       "    <tr style=\"text-align: right;\">\n",
       "      <th></th>\n",
       "      <th>age</th>\n",
       "      <th>became_member_on</th>\n",
       "      <th>gender</th>\n",
       "      <th>id</th>\n",
       "      <th>income</th>\n",
       "    </tr>\n",
       "  </thead>\n",
       "  <tbody>\n",
       "    <tr>\n",
       "      <th>0</th>\n",
       "      <td>118</td>\n",
       "      <td>20170212</td>\n",
       "      <td>None</td>\n",
       "      <td>68be06ca386d4c31939f3a4f0e3dd783</td>\n",
       "      <td>NaN</td>\n",
       "    </tr>\n",
       "    <tr>\n",
       "      <th>1</th>\n",
       "      <td>55</td>\n",
       "      <td>20170715</td>\n",
       "      <td>F</td>\n",
       "      <td>0610b486422d4921ae7d2bf64640c50b</td>\n",
       "      <td>112000.0</td>\n",
       "    </tr>\n",
       "    <tr>\n",
       "      <th>2</th>\n",
       "      <td>118</td>\n",
       "      <td>20180712</td>\n",
       "      <td>None</td>\n",
       "      <td>38fe809add3b4fcf9315a9694bb96ff5</td>\n",
       "      <td>NaN</td>\n",
       "    </tr>\n",
       "    <tr>\n",
       "      <th>3</th>\n",
       "      <td>75</td>\n",
       "      <td>20170509</td>\n",
       "      <td>F</td>\n",
       "      <td>78afa995795e4d85b5d9ceeca43f5fef</td>\n",
       "      <td>100000.0</td>\n",
       "    </tr>\n",
       "    <tr>\n",
       "      <th>4</th>\n",
       "      <td>118</td>\n",
       "      <td>20170804</td>\n",
       "      <td>None</td>\n",
       "      <td>a03223e636434f42ac4c3df47e8bac43</td>\n",
       "      <td>NaN</td>\n",
       "    </tr>\n",
       "  </tbody>\n",
       "</table>\n",
       "</div>"
      ],
      "text/plain": [
       "   age  became_member_on gender                                id    income\n",
       "0  118          20170212   None  68be06ca386d4c31939f3a4f0e3dd783       NaN\n",
       "1   55          20170715      F  0610b486422d4921ae7d2bf64640c50b  112000.0\n",
       "2  118          20180712   None  38fe809add3b4fcf9315a9694bb96ff5       NaN\n",
       "3   75          20170509      F  78afa995795e4d85b5d9ceeca43f5fef  100000.0\n",
       "4  118          20170804   None  a03223e636434f42ac4c3df47e8bac43       NaN"
      ]
     },
     "execution_count": 3,
     "metadata": {},
     "output_type": "execute_result"
    }
   ],
   "source": [
    "profile.head()"
   ]
  },
  {
   "cell_type": "code",
   "execution_count": 4,
   "metadata": {},
   "outputs": [
    {
     "data": {
      "text/plain": [
       "20180726"
      ]
     },
     "execution_count": 4,
     "metadata": {},
     "output_type": "execute_result"
    }
   ],
   "source": [
    "profile[\"became_member_on\"].max() # getting the last date a customer has joined in this dataset"
   ]
  },
  {
   "cell_type": "code",
   "execution_count": 5,
   "metadata": {},
   "outputs": [],
   "source": [
    "ref_date = datetime.datetime(2018, 7, 26) # using the last date joined as a reference date to compute the customer tenure length"
   ]
  },
  {
   "cell_type": "code",
   "execution_count": 6,
   "metadata": {},
   "outputs": [],
   "source": [
    "tenure_lengths = []\n",
    "joined_dates = []\n",
    "for row in profile.itertuples():\n",
    "    date = row.became_member_on\n",
    "    joined_date = datetime.datetime(int(str(date)[0:4]), int(str(date)[4:6]), int(str(date)[6:8]))\n",
    "    days_delta = ref_date - joined_date\n",
    "    days_delta = days_delta.days\n",
    "    tenure_lengths.append(days_delta)\n",
    "    joined_dates.append(joined_date)\n",
    "profile[\"tenure_length\"] = tenure_lengths\n",
    "profile[\"joined_date\"] = joined_dates"
   ]
  },
  {
   "cell_type": "code",
   "execution_count": 7,
   "metadata": {},
   "outputs": [],
   "source": [
    "profile.drop([\"became_member_on\"], axis=1, inplace=True)"
   ]
  },
  {
   "cell_type": "code",
   "execution_count": 8,
   "metadata": {},
   "outputs": [],
   "source": [
    "profile[\"age\"] = profile[\"age\"].replace([118], np.nan)"
   ]
  },
  {
   "cell_type": "code",
   "execution_count": 9,
   "metadata": {
    "scrolled": true
   },
   "outputs": [
    {
     "data": {
      "text/html": [
       "<div>\n",
       "<style scoped>\n",
       "    .dataframe tbody tr th:only-of-type {\n",
       "        vertical-align: middle;\n",
       "    }\n",
       "\n",
       "    .dataframe tbody tr th {\n",
       "        vertical-align: top;\n",
       "    }\n",
       "\n",
       "    .dataframe thead th {\n",
       "        text-align: right;\n",
       "    }\n",
       "</style>\n",
       "<table border=\"1\" class=\"dataframe\">\n",
       "  <thead>\n",
       "    <tr style=\"text-align: right;\">\n",
       "      <th></th>\n",
       "      <th>age</th>\n",
       "      <th>gender</th>\n",
       "      <th>id</th>\n",
       "      <th>income</th>\n",
       "      <th>tenure_length</th>\n",
       "      <th>joined_date</th>\n",
       "    </tr>\n",
       "  </thead>\n",
       "  <tbody>\n",
       "    <tr>\n",
       "      <th>0</th>\n",
       "      <td>NaN</td>\n",
       "      <td>None</td>\n",
       "      <td>68be06ca386d4c31939f3a4f0e3dd783</td>\n",
       "      <td>NaN</td>\n",
       "      <td>529</td>\n",
       "      <td>2017-02-12</td>\n",
       "    </tr>\n",
       "    <tr>\n",
       "      <th>1</th>\n",
       "      <td>55.0</td>\n",
       "      <td>F</td>\n",
       "      <td>0610b486422d4921ae7d2bf64640c50b</td>\n",
       "      <td>112000.0</td>\n",
       "      <td>376</td>\n",
       "      <td>2017-07-15</td>\n",
       "    </tr>\n",
       "    <tr>\n",
       "      <th>2</th>\n",
       "      <td>NaN</td>\n",
       "      <td>None</td>\n",
       "      <td>38fe809add3b4fcf9315a9694bb96ff5</td>\n",
       "      <td>NaN</td>\n",
       "      <td>14</td>\n",
       "      <td>2018-07-12</td>\n",
       "    </tr>\n",
       "    <tr>\n",
       "      <th>3</th>\n",
       "      <td>75.0</td>\n",
       "      <td>F</td>\n",
       "      <td>78afa995795e4d85b5d9ceeca43f5fef</td>\n",
       "      <td>100000.0</td>\n",
       "      <td>443</td>\n",
       "      <td>2017-05-09</td>\n",
       "    </tr>\n",
       "    <tr>\n",
       "      <th>4</th>\n",
       "      <td>NaN</td>\n",
       "      <td>None</td>\n",
       "      <td>a03223e636434f42ac4c3df47e8bac43</td>\n",
       "      <td>NaN</td>\n",
       "      <td>356</td>\n",
       "      <td>2017-08-04</td>\n",
       "    </tr>\n",
       "  </tbody>\n",
       "</table>\n",
       "</div>"
      ],
      "text/plain": [
       "    age gender                                id    income  tenure_length  \\\n",
       "0   NaN   None  68be06ca386d4c31939f3a4f0e3dd783       NaN            529   \n",
       "1  55.0      F  0610b486422d4921ae7d2bf64640c50b  112000.0            376   \n",
       "2   NaN   None  38fe809add3b4fcf9315a9694bb96ff5       NaN             14   \n",
       "3  75.0      F  78afa995795e4d85b5d9ceeca43f5fef  100000.0            443   \n",
       "4   NaN   None  a03223e636434f42ac4c3df47e8bac43       NaN            356   \n",
       "\n",
       "  joined_date  \n",
       "0  2017-02-12  \n",
       "1  2017-07-15  \n",
       "2  2018-07-12  \n",
       "3  2017-05-09  \n",
       "4  2017-08-04  "
      ]
     },
     "execution_count": 9,
     "metadata": {},
     "output_type": "execute_result"
    }
   ],
   "source": [
    "profile.head()"
   ]
  },
  {
   "cell_type": "code",
   "execution_count": 10,
   "metadata": {},
   "outputs": [
    {
     "data": {
      "text/html": [
       "<div>\n",
       "<style scoped>\n",
       "    .dataframe tbody tr th:only-of-type {\n",
       "        vertical-align: middle;\n",
       "    }\n",
       "\n",
       "    .dataframe tbody tr th {\n",
       "        vertical-align: top;\n",
       "    }\n",
       "\n",
       "    .dataframe thead th {\n",
       "        text-align: right;\n",
       "    }\n",
       "</style>\n",
       "<table border=\"1\" class=\"dataframe\">\n",
       "  <thead>\n",
       "    <tr style=\"text-align: right;\">\n",
       "      <th></th>\n",
       "      <th>channels</th>\n",
       "      <th>difficulty</th>\n",
       "      <th>duration</th>\n",
       "      <th>id</th>\n",
       "      <th>offer_type</th>\n",
       "      <th>reward</th>\n",
       "    </tr>\n",
       "  </thead>\n",
       "  <tbody>\n",
       "    <tr>\n",
       "      <th>0</th>\n",
       "      <td>[email, mobile, social]</td>\n",
       "      <td>10</td>\n",
       "      <td>7</td>\n",
       "      <td>ae264e3637204a6fb9bb56bc8210ddfd</td>\n",
       "      <td>bogo</td>\n",
       "      <td>10</td>\n",
       "    </tr>\n",
       "    <tr>\n",
       "      <th>1</th>\n",
       "      <td>[web, email, mobile, social]</td>\n",
       "      <td>10</td>\n",
       "      <td>5</td>\n",
       "      <td>4d5c57ea9a6940dd891ad53e9dbe8da0</td>\n",
       "      <td>bogo</td>\n",
       "      <td>10</td>\n",
       "    </tr>\n",
       "    <tr>\n",
       "      <th>2</th>\n",
       "      <td>[web, email, mobile]</td>\n",
       "      <td>0</td>\n",
       "      <td>4</td>\n",
       "      <td>3f207df678b143eea3cee63160fa8bed</td>\n",
       "      <td>informational</td>\n",
       "      <td>0</td>\n",
       "    </tr>\n",
       "    <tr>\n",
       "      <th>3</th>\n",
       "      <td>[web, email, mobile]</td>\n",
       "      <td>5</td>\n",
       "      <td>7</td>\n",
       "      <td>9b98b8c7a33c4b65b9aebfe6a799e6d9</td>\n",
       "      <td>bogo</td>\n",
       "      <td>5</td>\n",
       "    </tr>\n",
       "    <tr>\n",
       "      <th>4</th>\n",
       "      <td>[web, email]</td>\n",
       "      <td>20</td>\n",
       "      <td>10</td>\n",
       "      <td>0b1e1539f2cc45b7b9fa7c272da2e1d7</td>\n",
       "      <td>discount</td>\n",
       "      <td>5</td>\n",
       "    </tr>\n",
       "  </tbody>\n",
       "</table>\n",
       "</div>"
      ],
      "text/plain": [
       "                       channels  difficulty  duration  \\\n",
       "0       [email, mobile, social]          10         7   \n",
       "1  [web, email, mobile, social]          10         5   \n",
       "2          [web, email, mobile]           0         4   \n",
       "3          [web, email, mobile]           5         7   \n",
       "4                  [web, email]          20        10   \n",
       "\n",
       "                                 id     offer_type  reward  \n",
       "0  ae264e3637204a6fb9bb56bc8210ddfd           bogo      10  \n",
       "1  4d5c57ea9a6940dd891ad53e9dbe8da0           bogo      10  \n",
       "2  3f207df678b143eea3cee63160fa8bed  informational       0  \n",
       "3  9b98b8c7a33c4b65b9aebfe6a799e6d9           bogo       5  \n",
       "4  0b1e1539f2cc45b7b9fa7c272da2e1d7       discount       5  "
      ]
     },
     "execution_count": 10,
     "metadata": {},
     "output_type": "execute_result"
    }
   ],
   "source": [
    "portfolio.head()"
   ]
  },
  {
   "cell_type": "code",
   "execution_count": 11,
   "metadata": {},
   "outputs": [],
   "source": [
    "web = []\n",
    "email = []\n",
    "mobile = []\n",
    "social = []\n",
    "for row in portfolio.itertuples():\n",
    "    if \"web\" in row.channels:\n",
    "        web.append(1)\n",
    "    else:\n",
    "        web.append(0)\n",
    "    if \"email\" in row.channels:\n",
    "        email.append(1)\n",
    "    else:\n",
    "        email.append(0)\n",
    "    if  \"mobile\" in row.channels:\n",
    "        mobile.append(1)\n",
    "    else:\n",
    "        mobile.append(0)\n",
    "    if \"social\" in row.channels:\n",
    "        social.append(1)\n",
    "    else:\n",
    "        social.append(0)\n",
    "portfolio[\"channel_type_web\"] = web\n",
    "portfolio[\"channel_type_email\"] = email\n",
    "portfolio[\"channel_type_mobile\"] = mobile\n",
    "portfolio[\"channel_type_social\"] = social"
   ]
  },
  {
   "cell_type": "code",
   "execution_count": 12,
   "metadata": {},
   "outputs": [],
   "source": [
    "portfolio = pd.get_dummies(portfolio, columns=[\"offer_type\"])"
   ]
  },
  {
   "cell_type": "code",
   "execution_count": 13,
   "metadata": {},
   "outputs": [],
   "source": [
    "portfolio.drop([\"channels\"], axis=1, inplace=True)"
   ]
  },
  {
   "cell_type": "code",
   "execution_count": 14,
   "metadata": {},
   "outputs": [
    {
     "data": {
      "text/html": [
       "<div>\n",
       "<style scoped>\n",
       "    .dataframe tbody tr th:only-of-type {\n",
       "        vertical-align: middle;\n",
       "    }\n",
       "\n",
       "    .dataframe tbody tr th {\n",
       "        vertical-align: top;\n",
       "    }\n",
       "\n",
       "    .dataframe thead th {\n",
       "        text-align: right;\n",
       "    }\n",
       "</style>\n",
       "<table border=\"1\" class=\"dataframe\">\n",
       "  <thead>\n",
       "    <tr style=\"text-align: right;\">\n",
       "      <th></th>\n",
       "      <th>difficulty</th>\n",
       "      <th>duration</th>\n",
       "      <th>id</th>\n",
       "      <th>reward</th>\n",
       "      <th>channel_type_web</th>\n",
       "      <th>channel_type_email</th>\n",
       "      <th>channel_type_mobile</th>\n",
       "      <th>channel_type_social</th>\n",
       "      <th>offer_type_bogo</th>\n",
       "      <th>offer_type_discount</th>\n",
       "      <th>offer_type_informational</th>\n",
       "    </tr>\n",
       "  </thead>\n",
       "  <tbody>\n",
       "    <tr>\n",
       "      <th>0</th>\n",
       "      <td>10</td>\n",
       "      <td>7</td>\n",
       "      <td>ae264e3637204a6fb9bb56bc8210ddfd</td>\n",
       "      <td>10</td>\n",
       "      <td>0</td>\n",
       "      <td>1</td>\n",
       "      <td>1</td>\n",
       "      <td>1</td>\n",
       "      <td>1</td>\n",
       "      <td>0</td>\n",
       "      <td>0</td>\n",
       "    </tr>\n",
       "    <tr>\n",
       "      <th>1</th>\n",
       "      <td>10</td>\n",
       "      <td>5</td>\n",
       "      <td>4d5c57ea9a6940dd891ad53e9dbe8da0</td>\n",
       "      <td>10</td>\n",
       "      <td>1</td>\n",
       "      <td>1</td>\n",
       "      <td>1</td>\n",
       "      <td>1</td>\n",
       "      <td>1</td>\n",
       "      <td>0</td>\n",
       "      <td>0</td>\n",
       "    </tr>\n",
       "    <tr>\n",
       "      <th>2</th>\n",
       "      <td>0</td>\n",
       "      <td>4</td>\n",
       "      <td>3f207df678b143eea3cee63160fa8bed</td>\n",
       "      <td>0</td>\n",
       "      <td>1</td>\n",
       "      <td>1</td>\n",
       "      <td>1</td>\n",
       "      <td>0</td>\n",
       "      <td>0</td>\n",
       "      <td>0</td>\n",
       "      <td>1</td>\n",
       "    </tr>\n",
       "    <tr>\n",
       "      <th>3</th>\n",
       "      <td>5</td>\n",
       "      <td>7</td>\n",
       "      <td>9b98b8c7a33c4b65b9aebfe6a799e6d9</td>\n",
       "      <td>5</td>\n",
       "      <td>1</td>\n",
       "      <td>1</td>\n",
       "      <td>1</td>\n",
       "      <td>0</td>\n",
       "      <td>1</td>\n",
       "      <td>0</td>\n",
       "      <td>0</td>\n",
       "    </tr>\n",
       "    <tr>\n",
       "      <th>4</th>\n",
       "      <td>20</td>\n",
       "      <td>10</td>\n",
       "      <td>0b1e1539f2cc45b7b9fa7c272da2e1d7</td>\n",
       "      <td>5</td>\n",
       "      <td>1</td>\n",
       "      <td>1</td>\n",
       "      <td>0</td>\n",
       "      <td>0</td>\n",
       "      <td>0</td>\n",
       "      <td>1</td>\n",
       "      <td>0</td>\n",
       "    </tr>\n",
       "  </tbody>\n",
       "</table>\n",
       "</div>"
      ],
      "text/plain": [
       "   difficulty  duration                                id  reward  \\\n",
       "0          10         7  ae264e3637204a6fb9bb56bc8210ddfd      10   \n",
       "1          10         5  4d5c57ea9a6940dd891ad53e9dbe8da0      10   \n",
       "2           0         4  3f207df678b143eea3cee63160fa8bed       0   \n",
       "3           5         7  9b98b8c7a33c4b65b9aebfe6a799e6d9       5   \n",
       "4          20        10  0b1e1539f2cc45b7b9fa7c272da2e1d7       5   \n",
       "\n",
       "   channel_type_web  channel_type_email  channel_type_mobile  \\\n",
       "0                 0                   1                    1   \n",
       "1                 1                   1                    1   \n",
       "2                 1                   1                    1   \n",
       "3                 1                   1                    1   \n",
       "4                 1                   1                    0   \n",
       "\n",
       "   channel_type_social  offer_type_bogo  offer_type_discount  \\\n",
       "0                    1                1                    0   \n",
       "1                    1                1                    0   \n",
       "2                    0                0                    0   \n",
       "3                    0                1                    0   \n",
       "4                    0                0                    1   \n",
       "\n",
       "   offer_type_informational  \n",
       "0                         0  \n",
       "1                         0  \n",
       "2                         1  \n",
       "3                         0  \n",
       "4                         0  "
      ]
     },
     "execution_count": 14,
     "metadata": {},
     "output_type": "execute_result"
    }
   ],
   "source": [
    "portfolio.head()"
   ]
  },
  {
   "cell_type": "code",
   "execution_count": 14,
   "metadata": {},
   "outputs": [],
   "source": [
    "transcript_copy = pd.read_json('data/transcript.json', orient='records', lines=True)"
   ]
  },
  {
   "cell_type": "code",
   "execution_count": 15,
   "metadata": {},
   "outputs": [
    {
     "data": {
      "text/plain": [
       "transaction        138953\n",
       "offer received      76277\n",
       "offer viewed        57725\n",
       "offer completed     33579\n",
       "Name: event, dtype: int64"
      ]
     },
     "execution_count": 15,
     "metadata": {},
     "output_type": "execute_result"
    }
   ],
   "source": [
    "transcript[\"event\"].value_counts()"
   ]
  },
  {
   "cell_type": "code",
   "execution_count": 16,
   "metadata": {},
   "outputs": [
    {
     "data": {
      "text/plain": [
       "12654    {'amount': 0.8300000000000001}\n",
       "12657                 {'amount': 34.56}\n",
       "12659                 {'amount': 13.23}\n",
       "12670                 {'amount': 19.51}\n",
       "12671                 {'amount': 18.97}\n",
       "Name: value, dtype: object"
      ]
     },
     "execution_count": 16,
     "metadata": {},
     "output_type": "execute_result"
    }
   ],
   "source": [
    "transcript[transcript[\"event\"] == \"transaction\"][\"value\"].head()"
   ]
  },
  {
   "cell_type": "code",
   "execution_count": 17,
   "metadata": {},
   "outputs": [
    {
     "data": {
      "text/plain": [
       "0    {'offer id': '9b98b8c7a33c4b65b9aebfe6a799e6d9'}\n",
       "1    {'offer id': '0b1e1539f2cc45b7b9fa7c272da2e1d7'}\n",
       "2    {'offer id': '2906b810c7d4411798c6938adc9daaa5'}\n",
       "3    {'offer id': 'fafdcd668e3743c1bb461111dcafc2a4'}\n",
       "4    {'offer id': '4d5c57ea9a6940dd891ad53e9dbe8da0'}\n",
       "Name: value, dtype: object"
      ]
     },
     "execution_count": 17,
     "metadata": {},
     "output_type": "execute_result"
    }
   ],
   "source": [
    "transcript[transcript[\"event\"] == \"offer received\"][\"value\"].head()"
   ]
  },
  {
   "cell_type": "code",
   "execution_count": 18,
   "metadata": {},
   "outputs": [
    {
     "data": {
      "text/plain": [
       "12650    {'offer id': 'f19421c1d4aa40978ebb69ca19b0e20d'}\n",
       "12651    {'offer id': '5a8bc65990b245e5a138643cd4eb9837'}\n",
       "12652    {'offer id': '4d5c57ea9a6940dd891ad53e9dbe8da0'}\n",
       "12653    {'offer id': 'ae264e3637204a6fb9bb56bc8210ddfd'}\n",
       "12655    {'offer id': '5a8bc65990b245e5a138643cd4eb9837'}\n",
       "Name: value, dtype: object"
      ]
     },
     "execution_count": 18,
     "metadata": {},
     "output_type": "execute_result"
    }
   ],
   "source": [
    "transcript[transcript[\"event\"] == \"offer viewed\"][\"value\"].head()"
   ]
  },
  {
   "cell_type": "code",
   "execution_count": 19,
   "metadata": {},
   "outputs": [
    {
     "data": {
      "text/plain": [
       "12658    {'offer_id': '2906b810c7d4411798c6938adc9daaa5...\n",
       "12672    {'offer_id': 'fafdcd668e3743c1bb461111dcafc2a4...\n",
       "12679    {'offer_id': '9b98b8c7a33c4b65b9aebfe6a799e6d9...\n",
       "12692    {'offer_id': 'ae264e3637204a6fb9bb56bc8210ddfd...\n",
       "12697    {'offer_id': '4d5c57ea9a6940dd891ad53e9dbe8da0...\n",
       "Name: value, dtype: object"
      ]
     },
     "execution_count": 19,
     "metadata": {},
     "output_type": "execute_result"
    }
   ],
   "source": [
    "transcript[transcript[\"event\"] == \"offer completed\"][\"value\"].head()"
   ]
  },
  {
   "cell_type": "markdown",
   "metadata": {},
   "source": [
    "The data type of \"value\" column depends on the \"event\" values. I'll process them manually."
   ]
  },
  {
   "cell_type": "code",
   "execution_count": 23,
   "metadata": {},
   "outputs": [],
   "source": [
    "# lists for dummies\n",
    "transaction = []\n",
    "offer_received = []\n",
    "offer_viewed = []\n",
    "offer_completed = []\n",
    "\n",
    "offer_ids= []\n",
    "transaction_amounts = []\n",
    "complete_rewards = []\n",
    "\n",
    "for row in transcript.itertuples():\n",
    "    event = row.event\n",
    "    \n",
    "    if event == \"transaction\":\n",
    "        transaction.append(1)\n",
    "        transaction_amounts.append(row.value.get(\"amount\"))\n",
    "        \n",
    "        \n",
    "        offer_received.append(0)\n",
    "        offer_viewed.append(0)\n",
    "        offer_completed.append(0)\n",
    "        offer_ids.append(None)\n",
    "        complete_rewards.append(np.nan)\n",
    "\n",
    "    elif event == \"offer received\":\n",
    "        offer_received.append(1)\n",
    "        offer_ids.append(row.value.get(\"offer id\"))\n",
    "        \n",
    "        offer_viewed.append(0)\n",
    "        offer_completed.append(0)\n",
    "        transaction.append(0)\n",
    "        transaction_amounts.append(np.nan)\n",
    "        complete_rewards.append(np.nan)\n",
    "\n",
    "    elif event == \"offer viewed\":\n",
    "        offer_viewed.append(1)\n",
    "        offer_ids.append(row.value.get(\"offer id\"))\n",
    "        \n",
    "        offer_received.append(0)\n",
    "        offer_completed.append(0)\n",
    "        complete_rewards.append(np.nan)\n",
    "        transaction.append(0)\n",
    "        transaction_amounts.append(np.nan)\n",
    "        \n",
    "    else: # offer complete\n",
    "        offer_completed.append(1)\n",
    "        offer_ids.append(row.value.get(\"offer_id\"))\n",
    "        complete_rewards.append(row.value.get(\"reward\"))\n",
    "        \n",
    "        offer_received.append(0)\n",
    "        offer_viewed.append(0)\n",
    "        transaction.append(0)\n",
    "        transaction_amounts.append(np.nan)\n",
    "\n",
    "transcript[\"event_type_offer_received\"] = offer_received\n",
    "transcript[\"event_type_offer_viewed\"] = offer_viewed\n",
    "transcript[\"event_type_transaction\"] = transaction\n",
    "transcript[\"event_type_offer_completed\"] = offer_completed\n",
    "\n",
    "transcript[\"offer_id\"] = offer_ids\n",
    "transcript[\"transaction_amount\"] = transaction_amounts\n",
    "transcript[\"reward_amount\"] = complete_rewards\n",
    "\n"
   ]
  },
  {
   "cell_type": "code",
   "execution_count": 24,
   "metadata": {},
   "outputs": [],
   "source": [
    "transcript.drop([\"event\", \"value\"], axis=1, inplace=True)"
   ]
  },
  {
   "cell_type": "code",
   "execution_count": 25,
   "metadata": {},
   "outputs": [
    {
     "data": {
      "text/html": [
       "<div>\n",
       "<style scoped>\n",
       "    .dataframe tbody tr th:only-of-type {\n",
       "        vertical-align: middle;\n",
       "    }\n",
       "\n",
       "    .dataframe tbody tr th {\n",
       "        vertical-align: top;\n",
       "    }\n",
       "\n",
       "    .dataframe thead th {\n",
       "        text-align: right;\n",
       "    }\n",
       "</style>\n",
       "<table border=\"1\" class=\"dataframe\">\n",
       "  <thead>\n",
       "    <tr style=\"text-align: right;\">\n",
       "      <th></th>\n",
       "      <th>person</th>\n",
       "      <th>time</th>\n",
       "      <th>event_type_offer_received</th>\n",
       "      <th>event_type_offer_viewed</th>\n",
       "      <th>event_type_transaction</th>\n",
       "      <th>event_type_offer_completed</th>\n",
       "      <th>offer_id</th>\n",
       "      <th>transaction_amount</th>\n",
       "      <th>reward_amount</th>\n",
       "    </tr>\n",
       "  </thead>\n",
       "  <tbody>\n",
       "    <tr>\n",
       "      <th>0</th>\n",
       "      <td>78afa995795e4d85b5d9ceeca43f5fef</td>\n",
       "      <td>0</td>\n",
       "      <td>1</td>\n",
       "      <td>0</td>\n",
       "      <td>0</td>\n",
       "      <td>0</td>\n",
       "      <td>9b98b8c7a33c4b65b9aebfe6a799e6d9</td>\n",
       "      <td>NaN</td>\n",
       "      <td>NaN</td>\n",
       "    </tr>\n",
       "    <tr>\n",
       "      <th>1</th>\n",
       "      <td>a03223e636434f42ac4c3df47e8bac43</td>\n",
       "      <td>0</td>\n",
       "      <td>1</td>\n",
       "      <td>0</td>\n",
       "      <td>0</td>\n",
       "      <td>0</td>\n",
       "      <td>0b1e1539f2cc45b7b9fa7c272da2e1d7</td>\n",
       "      <td>NaN</td>\n",
       "      <td>NaN</td>\n",
       "    </tr>\n",
       "    <tr>\n",
       "      <th>2</th>\n",
       "      <td>e2127556f4f64592b11af22de27a7932</td>\n",
       "      <td>0</td>\n",
       "      <td>1</td>\n",
       "      <td>0</td>\n",
       "      <td>0</td>\n",
       "      <td>0</td>\n",
       "      <td>2906b810c7d4411798c6938adc9daaa5</td>\n",
       "      <td>NaN</td>\n",
       "      <td>NaN</td>\n",
       "    </tr>\n",
       "    <tr>\n",
       "      <th>3</th>\n",
       "      <td>8ec6ce2a7e7949b1bf142def7d0e0586</td>\n",
       "      <td>0</td>\n",
       "      <td>1</td>\n",
       "      <td>0</td>\n",
       "      <td>0</td>\n",
       "      <td>0</td>\n",
       "      <td>fafdcd668e3743c1bb461111dcafc2a4</td>\n",
       "      <td>NaN</td>\n",
       "      <td>NaN</td>\n",
       "    </tr>\n",
       "    <tr>\n",
       "      <th>4</th>\n",
       "      <td>68617ca6246f4fbc85e91a2a49552598</td>\n",
       "      <td>0</td>\n",
       "      <td>1</td>\n",
       "      <td>0</td>\n",
       "      <td>0</td>\n",
       "      <td>0</td>\n",
       "      <td>4d5c57ea9a6940dd891ad53e9dbe8da0</td>\n",
       "      <td>NaN</td>\n",
       "      <td>NaN</td>\n",
       "    </tr>\n",
       "  </tbody>\n",
       "</table>\n",
       "</div>"
      ],
      "text/plain": [
       "                             person  time  event_type_offer_received  \\\n",
       "0  78afa995795e4d85b5d9ceeca43f5fef     0                          1   \n",
       "1  a03223e636434f42ac4c3df47e8bac43     0                          1   \n",
       "2  e2127556f4f64592b11af22de27a7932     0                          1   \n",
       "3  8ec6ce2a7e7949b1bf142def7d0e0586     0                          1   \n",
       "4  68617ca6246f4fbc85e91a2a49552598     0                          1   \n",
       "\n",
       "   event_type_offer_viewed  event_type_transaction  \\\n",
       "0                        0                       0   \n",
       "1                        0                       0   \n",
       "2                        0                       0   \n",
       "3                        0                       0   \n",
       "4                        0                       0   \n",
       "\n",
       "   event_type_offer_completed                          offer_id  \\\n",
       "0                           0  9b98b8c7a33c4b65b9aebfe6a799e6d9   \n",
       "1                           0  0b1e1539f2cc45b7b9fa7c272da2e1d7   \n",
       "2                           0  2906b810c7d4411798c6938adc9daaa5   \n",
       "3                           0  fafdcd668e3743c1bb461111dcafc2a4   \n",
       "4                           0  4d5c57ea9a6940dd891ad53e9dbe8da0   \n",
       "\n",
       "   transaction_amount  reward_amount  \n",
       "0                 NaN            NaN  \n",
       "1                 NaN            NaN  \n",
       "2                 NaN            NaN  \n",
       "3                 NaN            NaN  \n",
       "4                 NaN            NaN  "
      ]
     },
     "execution_count": 25,
     "metadata": {},
     "output_type": "execute_result"
    }
   ],
   "source": [
    "transcript.head()"
   ]
  },
  {
   "cell_type": "code",
   "execution_count": 26,
   "metadata": {},
   "outputs": [],
   "source": [
    "# cleaning up rounding errors\n",
    "transcript[\"transaction_amount\"] = transcript[\"transaction_amount\"].apply(lambda x: round(x, 2))\n",
    "transcript[\"reward_amount\"] = transcript[\"reward_amount\"].apply(lambda x: round(x, 2))"
   ]
  },
  {
   "cell_type": "code",
   "execution_count": 24,
   "metadata": {},
   "outputs": [],
   "source": [
    "# Maunually unit testing the transcript df dummies\n"
   ]
  },
  {
   "cell_type": "code",
   "execution_count": 25,
   "metadata": {},
   "outputs": [
    {
     "name": "stdout",
     "output_type": "stream",
     "text": [
      "transaction test: pass\n",
      "offer received test: pass\n",
      "offer viewed test: pass\n",
      "offer completed test: pass\n"
     ]
    }
   ],
   "source": [
    "assert transcript[transcript[\"event_type_transaction\"] == 1][\"event_type_transaction\"].count() == transcript_copy[transcript_copy[\"event\"] == \"transaction\"][\"event\"].count(), \"transaction counts are incorrect\"\n",
    "print(\"transaction test: pass\")\n",
    "\n",
    "assert transcript[transcript[\"event_type_offer_received\"] == 1][\"event_type_offer_received\"].count() == transcript_copy[transcript_copy[\"event\"] == \"offer received\"][\"event\"].count(), \"offer received counts are incorrect\"\n",
    "print(\"offer received test: pass\")\n",
    "\n",
    "transcript[transcript[\"event_type_offer_viewed\"] == 1][\"event_type_offer_viewed\"].count()  == transcript_copy[transcript_copy[\"event\"] == \"offer viewed\"][\"event\"].count(), \"offer viewed counts are incorrect\"\n",
    "print(\"offer viewed test: pass\")\n",
    "\n",
    "transcript[transcript[\"event_type_offer_completed\"] == 1][\"event_type_offer_completed\"].count()  == transcript_copy[transcript_copy[\"event\"] == \"offer completed\"][\"event\"].count(), \"offer completed counts are incorrect\"\n",
    "print(\"offer completed test: pass\")\n"
   ]
  },
  {
   "cell_type": "code",
   "execution_count": 26,
   "metadata": {},
   "outputs": [
    {
     "data": {
      "image/png": "[encoded data removed]",
      "text/plain": [
       "<Figure size 432x288 with 1 Axes>"
      ]
     },
     "metadata": {
      "needs_background": "light"
     },
     "output_type": "display_data"
    }
   ],
   "source": [
    "profile[\"joined_date\"].hist(bins=50);"
   ]
  },
  {
   "cell_type": "code",
   "execution_count": 27,
   "metadata": {},
   "outputs": [],
   "source": [
    "profile_copy = profile.copy()"
   ]
  },
  {
   "cell_type": "code",
   "execution_count": 28,
   "metadata": {},
   "outputs": [],
   "source": [
    "profile_copy.index = profile_copy[\"joined_date\"]"
   ]
  },
  {
   "cell_type": "code",
   "execution_count": 29,
   "metadata": {},
   "outputs": [],
   "source": [
    "joined_date_hist = profile_copy.groupby(pd.Grouper(freq='M')).describe()"
   ]
  },
  {
   "cell_type": "code",
   "execution_count": 30,
   "metadata": {},
   "outputs": [
    {
     "data": {
      "text/plain": [
       "joined_date\n",
       "2013-07-31      5.0\n",
       "2013-08-31     64.0\n",
       "2013-09-30     55.0\n",
       "2013-10-31     53.0\n",
       "2013-11-30     46.0\n",
       "2013-12-31     51.0\n",
       "2014-01-31     62.0\n",
       "2014-02-28     54.0\n",
       "2014-03-31     54.0\n",
       "2014-04-30     61.0\n",
       "2014-05-31     64.0\n",
       "2014-06-30     56.0\n",
       "2014-07-31     54.0\n",
       "2014-08-31     57.0\n",
       "2014-09-30     55.0\n",
       "2014-10-31     47.0\n",
       "2014-11-30     51.0\n",
       "2014-12-31     47.0\n",
       "2015-01-31     61.0\n",
       "2015-02-28     60.0\n",
       "2015-03-31     59.0\n",
       "2015-04-30     58.0\n",
       "2015-05-31     64.0\n",
       "2015-06-30     53.0\n",
       "2015-07-31     64.0\n",
       "2015-08-31    242.0\n",
       "2015-09-30    238.0\n",
       "2015-10-31    233.0\n",
       "2015-11-30    228.0\n",
       "2015-12-31    237.0\n",
       "              ...  \n",
       "2016-02-29    237.0\n",
       "2016-03-31    256.0\n",
       "2016-04-30    266.0\n",
       "2016-05-31    262.0\n",
       "2016-06-30    250.0\n",
       "2016-07-31    271.0\n",
       "2016-08-31    262.0\n",
       "2016-09-30    233.0\n",
       "2016-10-31    253.0\n",
       "2016-11-30    245.0\n",
       "2016-12-31    240.0\n",
       "2017-01-31    250.0\n",
       "2017-02-28    239.0\n",
       "2017-03-31    236.0\n",
       "2017-04-30    252.0\n",
       "2017-05-31    234.0\n",
       "2017-06-30    260.0\n",
       "2017-07-31    345.0\n",
       "2017-08-31    770.0\n",
       "2017-09-30    718.0\n",
       "2017-10-31    800.0\n",
       "2017-11-30    698.0\n",
       "2017-12-31    797.0\n",
       "2018-01-31    705.0\n",
       "2018-02-28    452.0\n",
       "2018-03-31    540.0\n",
       "2018-04-30    508.0\n",
       "2018-05-31    528.0\n",
       "2018-06-30    486.0\n",
       "2018-07-31    450.0\n",
       "Freq: M, Name: (age, count), Length: 61, dtype: float64"
      ]
     },
     "execution_count": 30,
     "metadata": {},
     "output_type": "execute_result"
    }
   ],
   "source": [
    "joined_date_hist.iloc[0:, 0]"
   ]
  },
  {
   "cell_type": "code",
   "execution_count": 31,
   "metadata": {},
   "outputs": [],
   "source": [
    "profile.to_csv(\"profile_datetime.csv\")"
   ]
  },
  {
   "cell_type": "code",
   "execution_count": 32,
   "metadata": {},
   "outputs": [
    {
     "data": {
      "text/plain": [
       "14825.0"
      ]
     },
     "execution_count": 32,
     "metadata": {},
     "output_type": "execute_result"
    }
   ],
   "source": [
    "joined_date_hist.iloc[:, 0].sum()"
   ]
  },
  {
   "cell_type": "code",
   "execution_count": 33,
   "metadata": {},
   "outputs": [
    {
     "data": {
      "text/plain": [
       "1355.0"
      ]
     },
     "execution_count": 33,
     "metadata": {},
     "output_type": "execute_result"
    }
   ],
   "source": [
    "joined_date_hist.iloc[0:25, 0].sum()"
   ]
  },
  {
   "cell_type": "code",
   "execution_count": 34,
   "metadata": {},
   "outputs": [
    {
     "data": {
      "text/plain": [
       "6018.0"
      ]
     },
     "execution_count": 34,
     "metadata": {},
     "output_type": "execute_result"
    }
   ],
   "source": [
    "joined_date_hist.iloc[25:49, 0].sum()"
   ]
  },
  {
   "cell_type": "code",
   "execution_count": 35,
   "metadata": {},
   "outputs": [
    {
     "data": {
      "text/plain": [
       "3718.0"
      ]
     },
     "execution_count": 35,
     "metadata": {},
     "output_type": "execute_result"
    }
   ],
   "source": [
    "joined_date_hist.iloc[50:55, 0].sum()"
   ]
  },
  {
   "cell_type": "code",
   "execution_count": 36,
   "metadata": {},
   "outputs": [
    {
     "data": {
      "text/plain": [
       "2964.0"
      ]
     },
     "execution_count": 36,
     "metadata": {},
     "output_type": "execute_result"
    }
   ],
   "source": [
    "joined_date_hist.iloc[55:, 0].sum()"
   ]
  },
  {
   "cell_type": "markdown",
   "metadata": {},
   "source": [
    "There seems to be abrupt changes in the number of newly joined customers around mid 2015, mid 2017, and early 2018. This might indicate that different numbers of samples were taken from different time frames. We should keep this in mind, especially when we generalize the findings at the end of this study."
   ]
  },
  {
   "cell_type": "code",
   "execution_count": 37,
   "metadata": {},
   "outputs": [
    {
     "data": {
      "text/plain": [
       "Index(['age', 'gender', 'id', 'income', 'tenure_length', 'joined_date'], dtype='object')"
      ]
     },
     "execution_count": 37,
     "metadata": {},
     "output_type": "execute_result"
    }
   ],
   "source": [
    "profile.columns"
   ]
  },
  {
   "cell_type": "code",
   "execution_count": 38,
   "metadata": {},
   "outputs": [
    {
     "data": {
      "text/plain": [
       "count    17000.000000\n",
       "mean       517.449882\n",
       "std        411.223904\n",
       "min          0.000000\n",
       "25%        208.000000\n",
       "50%        358.000000\n",
       "75%        791.000000\n",
       "max       1823.000000\n",
       "Name: tenure_length, dtype: float64"
      ]
     },
     "execution_count": 38,
     "metadata": {},
     "output_type": "execute_result"
    }
   ],
   "source": [
    "profile[\"tenure_length\"].describe()"
   ]
  },
  {
   "cell_type": "code",
   "execution_count": 41,
   "metadata": {
    "scrolled": true
   },
   "outputs": [],
   "source": [
    "t1 = time.time()\n",
    "total_transaction_amounts = []\n",
    "for row in profile.itertuples():\n",
    "    total_transaction_amounts.append(transcript[transcript[\"person\"] == row.id][\"transaction_amount\"].sum())\n",
    "print(time.time() - t1)"
   ]
  },
  {
   "cell_type": "code",
   "execution_count": null,
   "metadata": {},
   "outputs": [],
   "source": [
    "profile[\"total_transaction_amount\"] = total_transaction_amounts"
   ]
  },
  {
   "cell_type": "code",
   "execution_count": null,
   "metadata": {
    "scrolled": true
   },
   "outputs": [],
   "source": [
    "total_reward_amounts = []\n",
    "for row in profile.itertuples():\n",
    "    total_reward_amounts.append(transcript[transcript[\"person\"] == row.id][\"reward_amount\"].sum())"
   ]
  },
  {
   "cell_type": "code",
   "execution_count": null,
   "metadata": {},
   "outputs": [],
   "source": [
    "profile[\"total_reward_amount\"] = total_reward_amounts"
   ]
  },
  {
   "cell_type": "code",
   "execution_count": 44,
   "metadata": {},
   "outputs": [],
   "source": [
    "profile.to_csv(\"profile_processed.csv\", index=False)"
   ]
  },
  {
   "cell_type": "code",
   "execution_count": 15,
   "metadata": {},
   "outputs": [],
   "source": [
    "profile = pd.read_csv(\"profile_processed.csv\")"
   ]
  },
  {
   "cell_type": "code",
   "execution_count": 33,
   "metadata": {},
   "outputs": [
    {
     "data": {
      "text/html": [
       "<div>\n",
       "<style scoped>\n",
       "    .dataframe tbody tr th:only-of-type {\n",
       "        vertical-align: middle;\n",
       "    }\n",
       "\n",
       "    .dataframe tbody tr th {\n",
       "        vertical-align: top;\n",
       "    }\n",
       "\n",
       "    .dataframe thead th {\n",
       "        text-align: right;\n",
       "    }\n",
       "</style>\n",
       "<table border=\"1\" class=\"dataframe\">\n",
       "  <thead>\n",
       "    <tr style=\"text-align: right;\">\n",
       "      <th></th>\n",
       "      <th>age</th>\n",
       "      <th>gender</th>\n",
       "      <th>id</th>\n",
       "      <th>income</th>\n",
       "      <th>tenure_length</th>\n",
       "      <th>joined_date</th>\n",
       "      <th>total_transaction_amount</th>\n",
       "      <th>total_reward_amount</th>\n",
       "    </tr>\n",
       "  </thead>\n",
       "  <tbody>\n",
       "    <tr>\n",
       "      <th>0</th>\n",
       "      <td>NaN</td>\n",
       "      <td>NaN</td>\n",
       "      <td>68be06ca386d4c31939f3a4f0e3dd783</td>\n",
       "      <td>NaN</td>\n",
       "      <td>529</td>\n",
       "      <td>2017-02-12</td>\n",
       "      <td>20.40</td>\n",
       "      <td>5.0</td>\n",
       "    </tr>\n",
       "    <tr>\n",
       "      <th>1</th>\n",
       "      <td>55.0</td>\n",
       "      <td>F</td>\n",
       "      <td>0610b486422d4921ae7d2bf64640c50b</td>\n",
       "      <td>112000.0</td>\n",
       "      <td>376</td>\n",
       "      <td>2017-07-15</td>\n",
       "      <td>77.01</td>\n",
       "      <td>5.0</td>\n",
       "    </tr>\n",
       "    <tr>\n",
       "      <th>2</th>\n",
       "      <td>NaN</td>\n",
       "      <td>NaN</td>\n",
       "      <td>38fe809add3b4fcf9315a9694bb96ff5</td>\n",
       "      <td>NaN</td>\n",
       "      <td>14</td>\n",
       "      <td>2018-07-12</td>\n",
       "      <td>14.30</td>\n",
       "      <td>0.0</td>\n",
       "    </tr>\n",
       "    <tr>\n",
       "      <th>3</th>\n",
       "      <td>75.0</td>\n",
       "      <td>F</td>\n",
       "      <td>78afa995795e4d85b5d9ceeca43f5fef</td>\n",
       "      <td>100000.0</td>\n",
       "      <td>443</td>\n",
       "      <td>2017-05-09</td>\n",
       "      <td>159.27</td>\n",
       "      <td>20.0</td>\n",
       "    </tr>\n",
       "    <tr>\n",
       "      <th>4</th>\n",
       "      <td>NaN</td>\n",
       "      <td>NaN</td>\n",
       "      <td>a03223e636434f42ac4c3df47e8bac43</td>\n",
       "      <td>NaN</td>\n",
       "      <td>356</td>\n",
       "      <td>2017-08-04</td>\n",
       "      <td>4.65</td>\n",
       "      <td>0.0</td>\n",
       "    </tr>\n",
       "  </tbody>\n",
       "</table>\n",
       "</div>"
      ],
      "text/plain": [
       "    age gender                                id    income  tenure_length  \\\n",
       "0   NaN    NaN  68be06ca386d4c31939f3a4f0e3dd783       NaN            529   \n",
       "1  55.0      F  0610b486422d4921ae7d2bf64640c50b  112000.0            376   \n",
       "2   NaN    NaN  38fe809add3b4fcf9315a9694bb96ff5       NaN             14   \n",
       "3  75.0      F  78afa995795e4d85b5d9ceeca43f5fef  100000.0            443   \n",
       "4   NaN    NaN  a03223e636434f42ac4c3df47e8bac43       NaN            356   \n",
       "\n",
       "  joined_date  total_transaction_amount  total_reward_amount  \n",
       "0  2017-02-12                     20.40                  5.0  \n",
       "1  2017-07-15                     77.01                  5.0  \n",
       "2  2018-07-12                     14.30                  0.0  \n",
       "3  2017-05-09                    159.27                 20.0  \n",
       "4  2017-08-04                      4.65                  0.0  "
      ]
     },
     "execution_count": 33,
     "metadata": {},
     "output_type": "execute_result"
    }
   ],
   "source": [
    "profile.head()"
   ]
  },
  {
   "cell_type": "code",
   "execution_count": 20,
   "metadata": {},
   "outputs": [],
   "source": [
    "def compute_successful_discounts_by_type(customer_id, offer_type, transcript=transcript, portfolio=portfolio):\n",
    "    \n",
    "    offer_type = offer_type\n",
    "    successful_offer_ids = []\n",
    "    successful_offer_received_times = []\n",
    "    successful_offer_viewed_times = []\n",
    "    successful_offer_completed_times = []\n",
    "    successful_offer_end_times = []\n",
    "    successful_offer_types = []\n",
    "    receive_to_view_time = []\n",
    "    view_to_complete_time = []\n",
    "\n",
    "    df_single_customer_transcript = transcript[(transcript[\"person\"] == customer_id)]\n",
    "    \n",
    "    received_offers = transcript[(transcript[\"person\"] == customer_id) & (transcript[\"event_type_offer_received\"] == 1)][\"offer_id\"]\n",
    "\n",
    "    # select the specific type of offers only\n",
    "    informational_ids = list(portfolio[portfolio[\"offer_type_informational\"] == 1][\"id\"].values)\n",
    "    bogo_ids = list(portfolio[portfolio[\"offer_type_bogo\"] == 1][\"id\"].values)\n",
    "    discount_ids = list(portfolio[portfolio[\"offer_type_discount\"] == 1][\"id\"].values)\n",
    "\n",
    "    if offer_type == \"bogo\":\n",
    "        del_offer_ids = informational_ids + discount_ids\n",
    "    elif offer_type == \"discount\":\n",
    "        del_offer_ids = informational_ids + bogo_ids\n",
    "    elif offer_type == \"informational\":\n",
    "        del_offer_ids = discount_ids + bogo_ids\n",
    "\n",
    "    for offer_id in del_offer_ids:\n",
    "        received_offers = received_offers.drop(received_offers[received_offers == offer_id].index)\n",
    "\n",
    "    # select the offers that worked\n",
    "    for idx, offer_id in received_offers.items():\n",
    "        # get the time when an offer was received\n",
    "        offer_start_time = transcript.iloc[idx, 1]\n",
    "        \n",
    "        # get the length of time the offer is in effect\n",
    "        offer_effective_days = portfolio[portfolio[\"id\"] == offer_id][\"duration\"].values[0]\n",
    "        \n",
    "        # calculate the time the offer expires\n",
    "        offer_end_time = offer_start_time + offer_effective_days * 24\n",
    "\n",
    "        # get the time the offer was viewed and completed, if such event takes place\n",
    "        offer_viewed_time = df_single_customer_transcript[(df_single_customer_transcript[\"offer_id\"] == offer_id) & (df_single_customer_transcript[\"event_type_offer_viewed\"] == 1) & (df_single_customer_transcript[\"time\"] >= offer_start_time) & (df_single_customer_transcript[\"time\"] <= offer_end_time)][\"time\"].values\n",
    "\n",
    "        if offer_type != \"informational\":\n",
    "            offer_completed_time = df_single_customer_transcript[(df_single_customer_transcript[\"offer_id\"] == offer_id) & (df_single_customer_transcript[\"event_type_offer_completed\"] == 1) & (df_single_customer_transcript[\"time\"] >= offer_start_time) & (df_single_customer_transcript[\"time\"] <= offer_end_time)][\"time\"].values\n",
    "        \n",
    "        # check if the offer was effective\n",
    "        if offer_type != \"informational\" and len(offer_viewed_time) > 0 and offer_viewed_time[0] <= offer_end_time and len(offer_completed_time) > 0 and offer_completed_time[0] <= offer_end_time and offer_viewed_time[0] <= offer_completed_time[0]:\n",
    "            successful_offer_ids.append(offer_id)\n",
    "            successful_offer_received_times.append(offer_start_time)\n",
    "            successful_offer_viewed_times.append(offer_viewed_time[0])\n",
    "            successful_offer_completed_times.append(offer_completed_time[0])\n",
    "            successful_offer_end_times.append(offer_end_time)\n",
    "            successful_offer_types.append(offer_type)\n",
    "            receive_to_view_time.append(offer_viewed_time[0] - offer_start_time)\n",
    "            view_to_complete_time.append(offer_completed_time[0] - offer_viewed_time[0])\n",
    "            \n",
    "        elif offer_type == \"informational\" and len(offer_viewed_time) > 0 and offer_viewed_time[0] <= offer_end_time  and offer_viewed_time[0] >= offer_start_time:\n",
    "            successful_offer_ids.append(offer_id)\n",
    "            successful_offer_received_times.append(offer_start_time)\n",
    "            successful_offer_viewed_times.append(offer_viewed_time[0])\n",
    "            successful_offer_completed_times.append(np.nan)\n",
    "            successful_offer_end_times.append(offer_end_time)\n",
    "            successful_offer_types.append(offer_type)\n",
    "            receive_to_view_time.append(offer_viewed_time[0] - offer_start_time)\n",
    "            view_to_complete_time.append(np.nan)\n",
    "    \n",
    "    return successful_offer_ids, successful_offer_received_times, successful_offer_viewed_times, successful_offer_completed_times, successful_offer_end_times, successful_offer_types, receive_to_view_time, view_to_complete_time\n",
    "    "
   ]
  },
  {
   "cell_type": "code",
   "execution_count": 29,
   "metadata": {},
   "outputs": [],
   "source": [
    "def compute_additional_customer_features(customer_id, transcript=transcript, profile=profile):\n",
    "    df_single_customer_transcript = transcript[(transcript[\"person\"] == customer_id)]\n",
    "    \n",
    "    # get a list of offers a customer has received\n",
    "    discount_successful_offer_ids, discount_successful_offer_received_times, discount_successful_offer_viewed_times, discount_successful_offer_completed_times, discount_successful_offer_end_times, discount_successful_offer_types, discount_receive_to_view_time, discount_view_to_complete_time = compute_successful_discounts_by_type(customer_id, \"discount\")\n",
    "    bogo_successful_offer_ids, bogo_successful_offer_received_times, bogo_successful_offer_viewed_times, bogo_successful_offer_completed_times, bogo_successful_offer_end_times, bogo_successful_offer_types, bogo_receive_to_view_time, bogo_view_to_complete_time = compute_successful_discounts_by_type(customer_id, \"bogo\")\n",
    "    informational_successful_offer_ids, informational_successful_offer_received_times, informational_successful_offer_viewed_times, informational_successful_offer_completed_times, informational_successful_offer_end_times, informational_successful_offer_types, informational_receive_to_view_time, informational_view_to_complete_time = compute_successful_discounts_by_type(customer_id, \"informational\")\n",
    "\n",
    "    successful_offer_ids = discount_successful_offer_ids + bogo_successful_offer_ids + informational_successful_offer_ids\n",
    "    successful_offer_received_times = discount_successful_offer_received_times + bogo_successful_offer_received_times + informational_successful_offer_received_times\n",
    "    successful_offer_viewed_times = discount_successful_offer_viewed_times + bogo_successful_offer_viewed_times + informational_successful_offer_viewed_times\n",
    "    successful_offer_completed_times = discount_successful_offer_completed_times + bogo_successful_offer_completed_times + informational_successful_offer_end_times # using end times for informational offers since there is no completion times \n",
    "    successful_offer_types = discount_successful_offer_types + bogo_successful_offer_types + informational_successful_offer_types\n",
    "\n",
    "    offer_time_list = [[], [], []] # a list of lists to record when discount and bogo offers were in effect, the first list contains the beginning time, and the second list contains the ending time, and the last contains the type of offer (informational or discount/bogo)\n",
    "\n",
    "    # create a time table to fill when offers were in effect\n",
    "    number_of_days = 30\n",
    "    duration_hours = number_of_days * 24\n",
    "    df_timetable = pd.DataFrame(0, index=np.arange(duration_hours), columns=[\"discount_active\", \"bogo_active\", \"informational_active\", \"discount_aware\", \"bogo_aware\", \"informational_aware\", \"no_promotions\", \"transaction\", \"transaction_amount\", \"outlier_transaction\"])\n",
    "\n",
    "    # record the discount, bogo, informational offers in effect\n",
    "    for i in range(len(successful_offer_ids)):\n",
    "        offer_type = successful_offer_types[i]\n",
    "        start_time = successful_offer_received_times[i] \n",
    "        view_time = successful_offer_viewed_times[i] \n",
    "        end_time = successful_offer_completed_times[i]\n",
    "        if offer_type == \"discount\":\n",
    "            df_timetable.loc[start_time:end_time + 1, \"discount_active\"] += 1\n",
    "            df_timetable.loc[view_time:end_time + 1, \"discount_aware\"] += 1\n",
    "        elif offer_type == \"bogo\":\n",
    "            df_timetable.loc[start_time:end_time + 1, \"bogo_active\"] += 1\n",
    "            df_timetable.loc[view_time:end_time + 1, \"bogo_aware\"] += 1\n",
    "        else:\n",
    "            df_timetable.loc[start_time:end_time + 1, \"informational_active\"] += 1\n",
    "            df_timetable.loc[view_time:end_time + 1, \"informational_aware\"] += 1\n",
    "    \n",
    "    # calculate when a customer is not aware of any offers (including discount, bogo, or informational)\n",
    "    df_timetable[\"no_promotions\"] = np.where(((df_timetable[\"discount_aware\"] + df_timetable[\"bogo_aware\"] + df_timetable[\"informational_aware\"]) == 0), 1, 0)\n",
    "    \n",
    "    # add the customer's transaction history and amount\n",
    "    transaction_time = df_single_customer_transcript[df_single_customer_transcript[\"event_type_transaction\"] == 1][\"time\"].values\n",
    "    transaction_amount = df_single_customer_transcript[df_single_customer_transcript[\"event_type_transaction\"] == 1][\"transaction_amount\"].values\n",
    "    \n",
    "    for i in range(len(transaction_time)):\n",
    "        df_timetable.loc[transaction_time[i], \"transaction\"] = 1\n",
    "        df_timetable.loc[transaction_time[i], \"transaction_amount\"] = transaction_amount[i]\n",
    "    \n",
    "    # record the outliers\n",
    "    # the outlier detection is a hybrid rule-based/IQR method\n",
    "    # using the IQR based outlier detection\n",
    "    q3 = transcript[transcript[\"person\"] == customer_id][\"transaction_amount\"].quantile(.75)\n",
    "    iqr = q3 - transcript[transcript[\"person\"] == customer_id][\"transaction_amount\"].quantile(.25)\n",
    "    # using 3 times the IQR to prevent accidentally removing high-amount non-outliers\n",
    "    iqr_high = q3 + (iqr * 3)\n",
    "    # setting the lowest threshold to 50 (a simple rule to avoid detecting reasonable transactions as outliers for customers who usually spend very small amount) \n",
    "    if iqr_high < 50:\n",
    "        iqr_high = 50.0\n",
    "    outlier_transaction_time =  transcript[(transcript[\"person\"] == customer_id) & (transcript[\"event_type_transaction\"] == 1) & (transcript[\"transaction_amount\"] > iqr_high)][\"time\"]\n",
    "    \n",
    "    for transaction_time in list(outlier_transaction_time):\n",
    "        df_timetable.loc[transaction_time, \"outlier_transaction\"] = 1\n",
    "    \n",
    "    # calculate new feature values\n",
    "    discount_active_hours = df_timetable[(df_timetable[\"discount_active\"] > 0)][\"discount_active\"].count()\n",
    "    bogo_active_hours = df_timetable[(df_timetable[\"bogo_active\"] > 0)][\"bogo_active\"].count()\n",
    "    informational_active_hours = df_timetable[(df_timetable[\"informational_active\"] > 0)][\"informational_active\"].count()\n",
    "    no_promotions_hours = df_timetable[(df_timetable[\"no_promotions\"] > 0)][\"no_promotions\"].count()\n",
    "    discount_aware_hours = df_timetable[(df_timetable[\"discount_aware\"] > 0)][\"discount_aware\"].count()\n",
    "    bogo_aware_hours = df_timetable[(df_timetable[\"bogo_aware\"] > 0)][\"bogo_aware\"].count()\n",
    "    informational_aware_hours = df_timetable[(df_timetable[\"informational_aware\"] > 0)][\"informational_aware\"].count()\n",
    "    discount_transaction_counts = df_timetable[(df_timetable[\"discount_aware\"] > 0) & (df_timetable[\"transaction\"] == 1)][\"discount_aware\"].count()\n",
    "    bogo_transaction_counts = df_timetable[(df_timetable[\"bogo_aware\"] > 0) & (df_timetable[\"transaction\"] == 1)][\"bogo_aware\"].count()\n",
    "    informational_transaction_counts = df_timetable[(df_timetable[\"informational_aware\"] > 0) & (df_timetable[\"transaction\"] == 1)][\"informational_aware\"].count()\n",
    "    no_promotions_transaction_counts = df_timetable[(df_timetable[\"no_promotions\"] > 0) & (df_timetable[\"transaction\"] == 1)][\"no_promotions\"].count()\n",
    "    \n",
    "    discount_transaction_amount = df_timetable[(df_timetable[\"discount_aware\"] > 0) & (df_timetable[\"transaction\"] == 1) & (df_timetable[\"outlier_transaction\"] == 0)][\"transaction_amount\"].sum()\n",
    "    bogo_transaction_amount = df_timetable[(df_timetable[\"bogo_aware\"] > 0) & (df_timetable[\"transaction\"] == 1) & (df_timetable[\"outlier_transaction\"] == 0)][\"transaction_amount\"].sum()  \n",
    "    informational_transaction_amount = df_timetable[(df_timetable[\"informational_aware\"] > 0) & (df_timetable[\"transaction\"] == 1) & (df_timetable[\"outlier_transaction\"] == 0)][\"transaction_amount\"].sum()\n",
    "    no_promotions_transaction_amount = df_timetable[(df_timetable[\"no_promotions\"] > 0) & (df_timetable[\"transaction\"] == 1) & (df_timetable[\"outlier_transaction\"] == 0)][\"transaction_amount\"].sum()\n",
    "    outlier_transaction_amount =  df_timetable[(df_timetable[\"outlier_transaction\"] == 1)][\"transaction_amount\"].sum()\n",
    "    outlier_count = len(outlier_transaction_time)\n",
    "    overlap_hours = df_timetable[((df_timetable[\"discount_active\"] + df_timetable[\"bogo_active\"]) > 1)][\"discount_active\"].count()\n",
    "    max_overlap = (df_timetable[\"discount_active\"] + df_timetable[\"bogo_active\"]).max()\n",
    "    successful_discount_counts = len(discount_successful_offer_ids)\n",
    "    successful_bogo_counts = len(bogo_successful_offer_ids)\n",
    "    \n",
    "    if len(discount_receive_to_view_time) > 0:\n",
    "        discount_avg_receive_to_view_time = np.mean(discount_receive_to_view_time)\n",
    "    else:\n",
    "        discount_avg_receive_to_view_time = np.nan\n",
    "    if len(bogo_receive_to_view_time) > 0:\n",
    "        bogo_avg_receive_to_view_time = np.mean(bogo_receive_to_view_time)\n",
    "    else:\n",
    "        bogo_avg_receive_to_view_time = np.nan\n",
    "    if len(informational_receive_to_view_time) > 0:\n",
    "        informational_avg_receive_to_view_time = np.mean(informational_receive_to_view_time)\n",
    "    else:\n",
    "        informational_avg_receive_to_view_time = np.nan\n",
    "    if len(discount_view_to_complete_time) > 0:\n",
    "        discount_avg_view_to_complete_time = np.mean(discount_view_to_complete_time)\n",
    "    else:\n",
    "        discount_avg_view_to_complete_time = np.nan\n",
    "    if len(bogo_view_to_complete_time) > 0:\n",
    "        bogo_avg_view_to_complete_time = np.mean(bogo_view_to_complete_time)\n",
    "    else:\n",
    "        bogo_avg_view_to_complete_time = np.nan\n",
    "    \n",
    "    if discount_aware_hours != 0:\n",
    "        avg_spending_discount = discount_transaction_amount / discount_aware_hours\n",
    "    else:\n",
    "        avg_spending_discount = np.nan\n",
    "    \n",
    "    if bogo_aware_hours != 0:\n",
    "        avg_spending_bogo = bogo_transaction_amount / bogo_aware_hours\n",
    "    else:\n",
    "        avg_spending_bogo = np.nan\n",
    "\n",
    "    if informational_aware_hours != 0:\n",
    "\n",
    "        avg_spending_informational = informational_transaction_amount / informational_aware_hours\n",
    "    else:\n",
    "        avg_spending_informational = np.nan\n",
    "        \n",
    "    if no_promotions_hours != 0:\n",
    "        avg_spending_no_promotions = no_promotions_transaction_amount / no_promotions_hours\n",
    "    else:\n",
    "        avg_spending_no_promotions = np.nan\n",
    "\n",
    "    return discount_active_hours, bogo_active_hours, informational_active_hours, no_promotions_hours, discount_aware_hours, bogo_aware_hours, informational_aware_hours, discount_transaction_counts, bogo_transaction_counts, informational_transaction_counts, no_promotions_transaction_counts, discount_transaction_amount, bogo_transaction_amount, informational_transaction_amount, no_promotions_transaction_amount, overlap_hours, max_overlap, avg_spending_discount, avg_spending_bogo, avg_spending_informational, avg_spending_no_promotions, successful_discount_counts, successful_bogo_counts, discount_avg_receive_to_view_time, bogo_avg_receive_to_view_time, discount_avg_view_to_complete_time, bogo_avg_view_to_complete_time, outlier_transaction_amount, outlier_count"
   ]
  },
  {
   "cell_type": "code",
   "execution_count": 32,
   "metadata": {},
   "outputs": [
    {
     "data": {
      "text/html": [
       "<div>\n",
       "<style scoped>\n",
       "    .dataframe tbody tr th:only-of-type {\n",
       "        vertical-align: middle;\n",
       "    }\n",
       "\n",
       "    .dataframe tbody tr th {\n",
       "        vertical-align: top;\n",
       "    }\n",
       "\n",
       "    .dataframe thead th {\n",
       "        text-align: right;\n",
       "    }\n",
       "</style>\n",
       "<table border=\"1\" class=\"dataframe\">\n",
       "  <thead>\n",
       "    <tr style=\"text-align: right;\">\n",
       "      <th></th>\n",
       "      <th>person</th>\n",
       "      <th>time</th>\n",
       "      <th>event_type_offer_received</th>\n",
       "      <th>event_type_offer_viewed</th>\n",
       "      <th>event_type_transaction</th>\n",
       "      <th>event_type_offer_completed</th>\n",
       "      <th>offer_id</th>\n",
       "      <th>transaction_amount</th>\n",
       "      <th>reward_amount</th>\n",
       "    </tr>\n",
       "  </thead>\n",
       "  <tbody>\n",
       "    <tr>\n",
       "      <th>0</th>\n",
       "      <td>78afa995795e4d85b5d9ceeca43f5fef</td>\n",
       "      <td>0</td>\n",
       "      <td>1</td>\n",
       "      <td>0</td>\n",
       "      <td>0</td>\n",
       "      <td>0</td>\n",
       "      <td>9b98b8c7a33c4b65b9aebfe6a799e6d9</td>\n",
       "      <td>NaN</td>\n",
       "      <td>NaN</td>\n",
       "    </tr>\n",
       "    <tr>\n",
       "      <th>1</th>\n",
       "      <td>a03223e636434f42ac4c3df47e8bac43</td>\n",
       "      <td>0</td>\n",
       "      <td>1</td>\n",
       "      <td>0</td>\n",
       "      <td>0</td>\n",
       "      <td>0</td>\n",
       "      <td>0b1e1539f2cc45b7b9fa7c272da2e1d7</td>\n",
       "      <td>NaN</td>\n",
       "      <td>NaN</td>\n",
       "    </tr>\n",
       "    <tr>\n",
       "      <th>2</th>\n",
       "      <td>e2127556f4f64592b11af22de27a7932</td>\n",
       "      <td>0</td>\n",
       "      <td>1</td>\n",
       "      <td>0</td>\n",
       "      <td>0</td>\n",
       "      <td>0</td>\n",
       "      <td>2906b810c7d4411798c6938adc9daaa5</td>\n",
       "      <td>NaN</td>\n",
       "      <td>NaN</td>\n",
       "    </tr>\n",
       "    <tr>\n",
       "      <th>3</th>\n",
       "      <td>8ec6ce2a7e7949b1bf142def7d0e0586</td>\n",
       "      <td>0</td>\n",
       "      <td>1</td>\n",
       "      <td>0</td>\n",
       "      <td>0</td>\n",
       "      <td>0</td>\n",
       "      <td>fafdcd668e3743c1bb461111dcafc2a4</td>\n",
       "      <td>NaN</td>\n",
       "      <td>NaN</td>\n",
       "    </tr>\n",
       "    <tr>\n",
       "      <th>4</th>\n",
       "      <td>68617ca6246f4fbc85e91a2a49552598</td>\n",
       "      <td>0</td>\n",
       "      <td>1</td>\n",
       "      <td>0</td>\n",
       "      <td>0</td>\n",
       "      <td>0</td>\n",
       "      <td>4d5c57ea9a6940dd891ad53e9dbe8da0</td>\n",
       "      <td>NaN</td>\n",
       "      <td>NaN</td>\n",
       "    </tr>\n",
       "  </tbody>\n",
       "</table>\n",
       "</div>"
      ],
      "text/plain": [
       "                             person  time  event_type_offer_received  \\\n",
       "0  78afa995795e4d85b5d9ceeca43f5fef     0                          1   \n",
       "1  a03223e636434f42ac4c3df47e8bac43     0                          1   \n",
       "2  e2127556f4f64592b11af22de27a7932     0                          1   \n",
       "3  8ec6ce2a7e7949b1bf142def7d0e0586     0                          1   \n",
       "4  68617ca6246f4fbc85e91a2a49552598     0                          1   \n",
       "\n",
       "   event_type_offer_viewed  event_type_transaction  \\\n",
       "0                        0                       0   \n",
       "1                        0                       0   \n",
       "2                        0                       0   \n",
       "3                        0                       0   \n",
       "4                        0                       0   \n",
       "\n",
       "   event_type_offer_completed                          offer_id  \\\n",
       "0                           0  9b98b8c7a33c4b65b9aebfe6a799e6d9   \n",
       "1                           0  0b1e1539f2cc45b7b9fa7c272da2e1d7   \n",
       "2                           0  2906b810c7d4411798c6938adc9daaa5   \n",
       "3                           0  fafdcd668e3743c1bb461111dcafc2a4   \n",
       "4                           0  4d5c57ea9a6940dd891ad53e9dbe8da0   \n",
       "\n",
       "   transaction_amount  reward_amount  \n",
       "0                 NaN            NaN  \n",
       "1                 NaN            NaN  \n",
       "2                 NaN            NaN  \n",
       "3                 NaN            NaN  \n",
       "4                 NaN            NaN  "
      ]
     },
     "execution_count": 32,
     "metadata": {},
     "output_type": "execute_result"
    }
   ],
   "source": [
    "transcript.head()"
   ]
  },
  {
   "cell_type": "code",
   "execution_count": 27,
   "metadata": {},
   "outputs": [],
   "source": [
    "test_profile_df = profile.iloc[0:10].copy()"
   ]
  },
  {
   "cell_type": "code",
   "execution_count": 30,
   "metadata": {
    "scrolled": false
   },
   "outputs": [
    {
     "name": "stdout",
     "output_type": "stream",
     "text": [
      "1.9950737953186035\n"
     ]
    }
   ],
   "source": [
    "t1 = time.time()\n",
    "discount_active_hours_list = []\n",
    "bogo_active_hours_list = []\n",
    "informational_active_hours_list = []\n",
    "no_promotions_hours_list = []\n",
    "discount_aware_hours_list = []\n",
    "bogo_aware_hours_list = []\n",
    "informational_aware_hours_list = []\n",
    "discount_transaction_count_list = []\n",
    "bogo_transaction_count_list = []\n",
    "informational_transaction_count_list = []\n",
    "no_promotions_transaction_count_list = []\n",
    "discount_spending_amount_list = []\n",
    "bogo_spending_amount_list = []\n",
    "informational_spending_amount_list = []\n",
    "no_promotions_spending_amount_list = []\n",
    "overlap_hours_list = []\n",
    "max_overlap_list = []\n",
    "discount_avg_spending_list = []\n",
    "bogo_avg_spending_list = []\n",
    "informational_avg_spending_list = []\n",
    "no_promotions_avg_spending_list = []\n",
    "successful_discount_count_list = []\n",
    "successful_bogo_count_list = []\n",
    "discount_avg_receive_to_view_time_list = []\n",
    "bogo_avg_receive_to_view_time_list = []\n",
    "discount_avg_view_to_complete_time_list = []\n",
    "bogo_avg_view_to_complete_time_list = []\n",
    "outlier_transaction_amount_list = []\n",
    "outlier_count_list = []\n",
    "\n",
    "\n",
    "for row in test_profile_df.itertuples():\n",
    "\n",
    "#     discount_hours, bogo_hours, informational_hours, no_promotions_hours, discount_transaction_counts, bogo_transaction_counts, informational_transaction_counts, no_promotions_transaction_counts, discount_transaction_amount, bogo_transaction_amount, informational_transaction_amount, no_promotions_transaction_amount, overlap_days, max_overlap, avg_spending_discount, avg_spending_bogo, avg_spending_informational, avg_spending_no_promotions, successful_discount_counts, successful_bogo_counts \n",
    "    discount_active_hours, bogo_active_hours, informational_active_hours, no_promotions_hours, discount_aware_hours, bogo_aware_hours, informational_aware_hours, discount_transaction_counts, bogo_transaction_counts, informational_transaction_counts, no_promotions_transaction_counts, discount_transaction_amount, bogo_transaction_amount, informational_transaction_amount, no_promotions_transaction_amount, overlap_hours, max_overlap, avg_spending_discount, avg_spending_bogo, avg_spending_informational, avg_spending_no_promotions, successful_discount_counts, successful_bogo_counts, discount_avg_receive_to_view_time, bogo_avg_receive_to_view_time, discount_avg_view_to_complete_time, bogo_avg_view_to_complete_time, outlier_transaction_amount, outlier_count = compute_additional_customer_features(row.id)\n",
    "\n",
    "    \n",
    "    discount_active_hours_list.append(discount_active_hours)\n",
    "    bogo_active_hours_list.append(bogo_active_hours)\n",
    "    informational_active_hours_list.append(informational_active_hours)\n",
    "    no_promotions_hours_list.append(no_promotions_hours)\n",
    "    discount_aware_hours_list.append(discount_aware_hours)\n",
    "    bogo_aware_hours_list.append(bogo_aware_hours)\n",
    "    informational_aware_hours_list.append(informational_aware_hours)\n",
    "    discount_transaction_count_list.append(discount_transaction_counts)\n",
    "    bogo_transaction_count_list.append(bogo_transaction_counts)\n",
    "    informational_transaction_count_list.append(informational_transaction_counts)\n",
    "    no_promotions_transaction_count_list.append(no_promotions_transaction_counts)\n",
    "    discount_spending_amount_list.append(discount_transaction_amount)\n",
    "    bogo_spending_amount_list.append(bogo_transaction_amount)\n",
    "    informational_spending_amount_list.append(informational_transaction_amount)\n",
    "    no_promotions_spending_amount_list.append(no_promotions_transaction_amount)\n",
    "    overlap_hours_list.append(overlap_hours)\n",
    "    max_overlap_list.append(max_overlap)\n",
    "    discount_avg_spending_list.append(avg_spending_discount)\n",
    "    bogo_avg_spending_list.append(avg_spending_bogo)\n",
    "    informational_avg_spending_list.append(avg_spending_informational)\n",
    "    no_promotions_avg_spending_list.append(avg_spending_no_promotions)\n",
    "    successful_discount_count_list.append(successful_discount_counts)\n",
    "    successful_bogo_count_list.append(successful_bogo_counts)\n",
    "    discount_avg_receive_to_view_time_list.append(discount_avg_receive_to_view_time)\n",
    "    bogo_avg_receive_to_view_time_list.append(bogo_avg_receive_to_view_time)\n",
    "    discount_avg_view_to_complete_time_list.append(discount_avg_view_to_complete_time)\n",
    "    bogo_avg_view_to_complete_time_list.append(bogo_avg_view_to_complete_time)\n",
    "    outlier_transaction_amount_list.append(outlier_transaction_amount)\n",
    "    outlier_count_list.append(outlier_count)\n",
    "\n",
    "\n",
    "print(time.time() - t1)"
   ]
  },
  {
   "cell_type": "code",
   "execution_count": 31,
   "metadata": {},
   "outputs": [
    {
     "data": {
      "text/plain": [
       "[0.06965753424657535, nan, nan, nan, nan, 9.21, nan, nan, 0.1680625, nan]"
      ]
     },
     "execution_count": 31,
     "metadata": {},
     "output_type": "execute_result"
    }
   ],
   "source": [
    "discount_avg_spending_list"
   ]
  },
  {
   "cell_type": "code",
   "execution_count": 832,
   "metadata": {},
   "outputs": [],
   "source": [
    "profile[\"discount_active_hours\"] = discount_active_hours_list\n",
    "profile[\"bogo_active_hours\"] = bogo_active_hours_list\n",
    "profile[\"informational_active_hours\"] = informational_active_hours_list \n",
    "profile[\"no_promotions_hours\"] = no_promotions_hours_list\n",
    "profile[\"discount_aware_hours\"] = discount_aware_hours_list\n",
    "profile[\"bogo_aware_hours\"] = bogo_aware_hours_list\n",
    "profile[\"informational_aware_hours\"] = informational_aware_hours_list \n",
    "profile[\"discount_transaction_count\"] = discount_transaction_count_list\n",
    "profile[\"bogo_transaction_count\"] = bogo_transaction_count_list\n",
    "profile[\"informational_transaction_count\"] = informational_transaction_count_list \n",
    "profile[\"no_promotions_transaction_count\"] = no_promotions_transaction_count_list \n",
    "profile[\"discount_spending_amount\"] = discount_spending_amount_list\n",
    "profile[\"bogo_spending_amount\"] = bogo_spending_amount_list\n",
    "profile[\"informational_spending_amount\"] = informational_spending_amount_list\n",
    "profile[\"no_promotions_spending_amount\"] = no_promotions_spending_amount_list\n",
    "profile[\"outlier_spending_amount\"] = outlier_transaction_amount_list\n",
    "profile[\"outlier_count\"] = outlier_count_list\n",
    "profile[\"overlap_hours\"] = overlap_hours_list \n",
    "profile[\"max_overlap\"] = max_overlap_list\n",
    "profile[\"discount_spending_per_hour\"] = discount_avg_spending_list \n",
    "profile[\"bogo_spending_per_hour\"] = bogo_avg_spending_list\n",
    "profile[\"informational_spending_per_hour\"] = informational_avg_spending_list \n",
    "profile[\"no_promotions_spending_per_hour\"] = no_promotions_avg_spending_list\n",
    "profile[\"successful_discount_count\"] = successful_discount_count_list\n",
    "profile[\"successful_bogo_count\"] = successful_bogo_count_list\n",
    "profile[\"discount_avg_receive_to_view_time\"] = discount_avg_receive_to_view_time_list \n",
    "profile[\"bogo_avg_receive_to_view_time\"] = bogo_avg_receive_to_view_time_list \n",
    "profile[\"discount_avg_view_to_complete_time\"] = discount_avg_view_to_complete_time_list \n",
    "profile[\"bogo_avg_view_to_complete_time\"] = bogo_avg_view_to_complete_time_list \n"
   ]
  },
  {
   "cell_type": "code",
   "execution_count": 836,
   "metadata": {},
   "outputs": [],
   "source": [
    "# profile.loc[0:40, [\"id\", \"discount_spending_per_day\", \"bogo_spending_per_day\", \"informational_spending_per_day\", \"no_promotions_spending_per_day\"]]"
   ]
  },
  {
   "cell_type": "code",
   "execution_count": 847,
   "metadata": {},
   "outputs": [],
   "source": [
    "profile.to_csv(\"profile_checkpoint2.csv\", index=False)"
   ]
  },
  {
   "cell_type": "code",
   "execution_count": 682,
   "metadata": {},
   "outputs": [],
   "source": [
    "profile = pd.read_csv(\"profile_checkpoint2.csv\")"
   ]
  },
  {
   "cell_type": "code",
   "execution_count": 103,
   "metadata": {},
   "outputs": [
    {
     "data": {
      "image/png": "[encoded data removed]",
      "text/plain": [
       "<Figure size 432x288 with 1 Axes>"
      ]
     },
     "metadata": {
      "needs_background": "light"
     },
     "output_type": "display_data"
    }
   ],
   "source": [
    "profile[(profile[\"income\"]< 40000)][\"no_promotions_spending_per_day\"].hist(bins=50);"
   ]
  },
  {
   "cell_type": "code",
   "execution_count": 102,
   "metadata": {},
   "outputs": [
    {
     "data": {
      "image/png": "[encoded data removed]",
      "text/plain": [
       "<Figure size 432x288 with 1 Axes>"
      ]
     },
     "metadata": {
      "needs_background": "light"
     },
     "output_type": "display_data"
    }
   ],
   "source": [
    "profile[(profile[\"income\"] > 40000) & (profile[\"income\"] < 60000)][\"no_promotions_spending_per_day\"].hist(bins=50);"
   ]
  },
  {
   "cell_type": "code",
   "execution_count": 101,
   "metadata": {},
   "outputs": [
    {
     "data": {
      "image/png": "[encoded data removed]",
      "text/plain": [
       "<Figure size 432x288 with 1 Axes>"
      ]
     },
     "metadata": {
      "needs_background": "light"
     },
     "output_type": "display_data"
    }
   ],
   "source": [
    "profile[(profile[\"income\"] > 60000) & (profile[\"income\"] < 80000)][\"no_promotions_spending_per_day\"].hist(bins=50);"
   ]
  },
  {
   "cell_type": "code",
   "execution_count": 100,
   "metadata": {},
   "outputs": [
    {
     "data": {
      "image/png": "[encoded data removed]",
      "text/plain": [
       "<Figure size 432x288 with 1 Axes>"
      ]
     },
     "metadata": {
      "needs_background": "light"
     },
     "output_type": "display_data"
    }
   ],
   "source": [
    "profile[(profile[\"income\"] > 80000)][\"no_promotions_spending_per_day\"].hist(bins=50);"
   ]
  },
  {
   "cell_type": "code",
   "execution_count": 112,
   "metadata": {},
   "outputs": [
    {
     "data": {
      "text/plain": [
       "<matplotlib.axes._subplots.AxesSubplot at 0x7fdcf9512e10>"
      ]
     },
     "execution_count": 112,
     "metadata": {},
     "output_type": "execute_result"
    },
    {
     "data": {
      "image/png": "[encoded data removed]",
      "text/plain": [
       "<Figure size 432x288 with 1 Axes>"
      ]
     },
     "metadata": {
      "needs_background": "light"
     },
     "output_type": "display_data"
    }
   ],
   "source": [
    "transcript[\"transaction_amount\"].hist(bins=100)"
   ]
  },
  {
   "cell_type": "code",
   "execution_count": null,
   "metadata": {},
   "outputs": [],
   "source": []
  }
 ],
 "metadata": {
  "kernelspec": {
   "display_name": "Python 3",
   "language": "python",
   "name": "python3"
  },
  "language_info": {
   "codemirror_mode": {
    "name": "ipython",
    "version": 3
   },
   "file_extension": ".py",
   "mimetype": "text/x-python",
   "name": "python",
   "nbconvert_exporter": "python",
   "pygments_lexer": "ipython3",
   "version": "3.7.2"
  }
 },
 "nbformat": 4,
 "nbformat_minor": 2
}
