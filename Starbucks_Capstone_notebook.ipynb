{
 "cells": [
  {
   "cell_type": "markdown",
   "metadata": {},
   "source": [
    "# Starbucks Capstone Challenge\n",
    "\n",
    "### Introduction\n",
    "\n",
    "This data set contains simulated data that mimics customer behavior on the Starbucks rewards mobile app. Once every few days, Starbucks sends out an offer to users of the mobile app. An offer can be merely an advertisement for a drink or an actual offer such as a discount or BOGO (buy one get one free). Some users might not receive any offer during certain weeks. \n",
    "\n",
    "Not all users receive the same offer, and that is the challenge to solve with this data set.\n",
    "\n",
    "Your task is to combine transaction, demographic and offer data to determine which demographic groups respond best to which offer type. This data set is a simplified version of the real Starbucks app because the underlying simulator only has one product whereas Starbucks actually sells dozens of products.\n",
    "\n",
    "Every offer has a validity period before the offer expires. As an example, a BOGO offer might be valid for only 5 days. You'll see in the data set that informational offers have a validity period even though these ads are merely providing information about a product; for example, if an informational offer has 7 days of validity, you can assume the customer is feeling the influence of the offer for 7 days after receiving the advertisement.\n",
    "\n",
    "You'll be given transactional data showing user purchases made on the app including the timestamp of purchase and the amount of money spent on a purchase. This transactional data also has a record for each offer that a user receives as well as a record for when a user actually views the offer. There are also records for when a user completes an offer. \n",
    "\n",
    "Keep in mind as well that someone using the app might make a purchase through the app without having received an offer or seen an offer.\n",
    "\n",
    "### Example\n",
    "\n",
    "To give an example, a user could receive a discount offer buy 10 dollars get 2 off on Monday. The offer is valid for 10 days from receipt. If the customer accumulates at least 10 dollars in purchases during the validity period, the customer completes the offer.\n",
    "\n",
    "However, there are a few things to watch out for in this data set. Customers do not opt into the offers that they receive; in other words, a user can receive an offer, never actually view the offer, and still complete the offer. For example, a user might receive the \"buy 10 dollars get 2 dollars off offer\", but the user never opens the offer during the 10 day validity period. The customer spends 15 dollars during those ten days. There will be an offer completion record in the data set; however, the customer was not influenced by the offer because the customer never viewed the offer.\n",
    "\n",
    "### Cleaning\n",
    "\n",
    "This makes data cleaning especially important and tricky.\n",
    "\n",
    "You'll also want to take into account that some demographic groups will make purchases even if they don't receive an offer. From a business perspective, if a customer is going to make a 10 dollar purchase without an offer anyway, you wouldn't want to send a buy 10 dollars get 2 dollars off offer. You'll want to try to assess what a certain demographic group will buy when not receiving any offers.\n",
    "\n",
    "### Final Advice\n",
    "\n",
    "Because this is a capstone project, you are free to analyze the data any way you see fit. For example, you could build a machine learning model that predicts how much someone will spend based on demographics and offer type. Or you could build a model that predicts whether or not someone will respond to an offer. Or, you don't need to build a machine learning model at all. You could develop a set of heuristics that determine what offer you should send to each customer (i.e., 75 percent of women customers who were 35 years old responded to offer A vs 40 percent from the same demographic to offer B, so send offer A)."
   ]
  },
  {
   "cell_type": "markdown",
   "metadata": {},
   "source": [
    "# Data Sets\n",
    "\n",
    "The data is contained in three files:\n",
    "\n",
    "* portfolio.json - containing offer ids and meta data about each offer (duration, type, etc.)\n",
    "* profile.json - demographic data for each customer\n",
    "* transcript.json - records for transactions, offers received, offers viewed, and offers completed\n",
    "\n",
    "Here is the schema and explanation of each variable in the files:\n",
    "\n",
    "**portfolio.json**\n",
    "* id (string) - offer id\n",
    "* offer_type (string) - type of offer ie BOGO, discount, informational\n",
    "* difficulty (int) - minimum required spend to complete an offer\n",
    "* reward (int) - reward given for completing an offer\n",
    "* duration (int) - time for offer to be open, in days\n",
    "* channels (list of strings)\n",
    "\n",
    "**profile.json**\n",
    "* age (int) - age of the customer \n",
    "* became_member_on (int) - date when customer created an app account\n",
    "* gender (str) - gender of the customer (note some entries contain 'O' for other rather than M or F)\n",
    "* id (str) - customer id\n",
    "* income (float) - customer's income\n",
    "\n",
    "**transcript.json**\n",
    "* event (str) - record description (ie transaction, offer received, offer viewed, etc.)\n",
    "* person (str) - customer id\n",
    "* time (int) - time in hours since start of test. The data begins at time t=0\n",
    "* value - (dict of strings) - either an offer id or transaction amount depending on the record\n",
    "\n",
    "**Note:** If you are using the workspace, you will need to go to the terminal and run the command `conda update pandas` before reading in the files. This is because the version of pandas in the workspace cannot read in the transcript.json file correctly, but the newest version of pandas can. You can access the termnal from the orange icon in the top left of this notebook.  \n",
    "\n",
    "You can see how to access the terminal and how the install works using the two images below.  First you need to access the terminal:\n",
    "\n",
    "<img src=\"pic1.png\"/>\n",
    "\n",
    "Then you will want to run the above command:\n",
    "\n",
    "<img src=\"pic2.png\"/>\n",
    "\n",
    "Finally, when you enter back into the notebook (use the jupyter icon again), you should be able to run the below cell without any errors."
   ]
  },
  {
   "cell_type": "code",
   "execution_count": 1,
   "metadata": {},
   "outputs": [],
   "source": [
    "import pandas as pd\n",
    "import numpy as np\n",
    "import math\n",
    "import json\n",
    "import datetime\n",
    "\n",
    "%matplotlib inline"
   ]
  },
  {
   "cell_type": "code",
   "execution_count": 2,
   "metadata": {},
   "outputs": [],
   "source": [
    "# read in the json files\n",
    "portfolio = pd.read_json('data/portfolio.json', orient='records', lines=True)\n",
    "profile = pd.read_json('data/profile.json', orient='records', lines=True)\n",
    "transcript = pd.read_json('data/transcript.json', orient='records', lines=True)"
   ]
  },
  {
   "cell_type": "code",
   "execution_count": 3,
   "metadata": {
    "scrolled": true
   },
   "outputs": [
    {
     "data": {
      "text/html": [
       "<div>\n",
       "<style scoped>\n",
       "    .dataframe tbody tr th:only-of-type {\n",
       "        vertical-align: middle;\n",
       "    }\n",
       "\n",
       "    .dataframe tbody tr th {\n",
       "        vertical-align: top;\n",
       "    }\n",
       "\n",
       "    .dataframe thead th {\n",
       "        text-align: right;\n",
       "    }\n",
       "</style>\n",
       "<table border=\"1\" class=\"dataframe\">\n",
       "  <thead>\n",
       "    <tr style=\"text-align: right;\">\n",
       "      <th></th>\n",
       "      <th>age</th>\n",
       "      <th>became_member_on</th>\n",
       "      <th>gender</th>\n",
       "      <th>id</th>\n",
       "      <th>income</th>\n",
       "    </tr>\n",
       "  </thead>\n",
       "  <tbody>\n",
       "    <tr>\n",
       "      <th>0</th>\n",
       "      <td>118</td>\n",
       "      <td>20170212</td>\n",
       "      <td>None</td>\n",
       "      <td>68be06ca386d4c31939f3a4f0e3dd783</td>\n",
       "      <td>NaN</td>\n",
       "    </tr>\n",
       "    <tr>\n",
       "      <th>1</th>\n",
       "      <td>55</td>\n",
       "      <td>20170715</td>\n",
       "      <td>F</td>\n",
       "      <td>0610b486422d4921ae7d2bf64640c50b</td>\n",
       "      <td>112000.0</td>\n",
       "    </tr>\n",
       "    <tr>\n",
       "      <th>2</th>\n",
       "      <td>118</td>\n",
       "      <td>20180712</td>\n",
       "      <td>None</td>\n",
       "      <td>38fe809add3b4fcf9315a9694bb96ff5</td>\n",
       "      <td>NaN</td>\n",
       "    </tr>\n",
       "    <tr>\n",
       "      <th>3</th>\n",
       "      <td>75</td>\n",
       "      <td>20170509</td>\n",
       "      <td>F</td>\n",
       "      <td>78afa995795e4d85b5d9ceeca43f5fef</td>\n",
       "      <td>100000.0</td>\n",
       "    </tr>\n",
       "    <tr>\n",
       "      <th>4</th>\n",
       "      <td>118</td>\n",
       "      <td>20170804</td>\n",
       "      <td>None</td>\n",
       "      <td>a03223e636434f42ac4c3df47e8bac43</td>\n",
       "      <td>NaN</td>\n",
       "    </tr>\n",
       "  </tbody>\n",
       "</table>\n",
       "</div>"
      ],
      "text/plain": [
       "   age  became_member_on gender                                id    income\n",
       "0  118          20170212   None  68be06ca386d4c31939f3a4f0e3dd783       NaN\n",
       "1   55          20170715      F  0610b486422d4921ae7d2bf64640c50b  112000.0\n",
       "2  118          20180712   None  38fe809add3b4fcf9315a9694bb96ff5       NaN\n",
       "3   75          20170509      F  78afa995795e4d85b5d9ceeca43f5fef  100000.0\n",
       "4  118          20170804   None  a03223e636434f42ac4c3df47e8bac43       NaN"
      ]
     },
     "execution_count": 3,
     "metadata": {},
     "output_type": "execute_result"
    }
   ],
   "source": [
    "profile.head()"
   ]
  },
  {
   "cell_type": "code",
   "execution_count": 4,
   "metadata": {},
   "outputs": [
    {
     "data": {
      "text/plain": [
       "20180726"
      ]
     },
     "execution_count": 4,
     "metadata": {},
     "output_type": "execute_result"
    }
   ],
   "source": [
    "profile[\"became_member_on\"].max() # getting the last date a customer has joined in this dataset"
   ]
  },
  {
   "cell_type": "code",
   "execution_count": 5,
   "metadata": {},
   "outputs": [],
   "source": [
    "ref_date = datetime.datetime(2018, 7, 26) # using the last date joined as a reference date to compute the customer tenure length"
   ]
  },
  {
   "cell_type": "code",
   "execution_count": 6,
   "metadata": {},
   "outputs": [],
   "source": [
    "tenure_lengths = []\n",
    "joined_dates = []\n",
    "for row in profile.itertuples():\n",
    "    date = row.became_member_on\n",
    "    joined_date = datetime.datetime(int(str(date)[0:4]), int(str(date)[4:6]), int(str(date)[6:8]))\n",
    "    days_delta = ref_date - joined_date\n",
    "    days_delta = days_delta.days\n",
    "    tenure_lengths.append(days_delta)\n",
    "    joined_dates.append(joined_date)\n",
    "profile[\"tenure_length\"] = tenure_lengths\n",
    "profile[\"joined_date\"] = joined_dates"
   ]
  },
  {
   "cell_type": "code",
   "execution_count": 7,
   "metadata": {},
   "outputs": [],
   "source": [
    "profile.drop([\"became_member_on\"], axis=1, inplace=True)"
   ]
  },
  {
   "cell_type": "code",
   "execution_count": 8,
   "metadata": {},
   "outputs": [],
   "source": [
    "profile[\"age\"] = profile[\"age\"].replace([118], np.nan)"
   ]
  },
  {
   "cell_type": "code",
   "execution_count": 9,
   "metadata": {
    "scrolled": true
   },
   "outputs": [
    {
     "data": {
      "text/html": [
       "<div>\n",
       "<style scoped>\n",
       "    .dataframe tbody tr th:only-of-type {\n",
       "        vertical-align: middle;\n",
       "    }\n",
       "\n",
       "    .dataframe tbody tr th {\n",
       "        vertical-align: top;\n",
       "    }\n",
       "\n",
       "    .dataframe thead th {\n",
       "        text-align: right;\n",
       "    }\n",
       "</style>\n",
       "<table border=\"1\" class=\"dataframe\">\n",
       "  <thead>\n",
       "    <tr style=\"text-align: right;\">\n",
       "      <th></th>\n",
       "      <th>age</th>\n",
       "      <th>gender</th>\n",
       "      <th>id</th>\n",
       "      <th>income</th>\n",
       "      <th>tenure_length</th>\n",
       "      <th>joined_date</th>\n",
       "    </tr>\n",
       "  </thead>\n",
       "  <tbody>\n",
       "    <tr>\n",
       "      <th>0</th>\n",
       "      <td>NaN</td>\n",
       "      <td>None</td>\n",
       "      <td>68be06ca386d4c31939f3a4f0e3dd783</td>\n",
       "      <td>NaN</td>\n",
       "      <td>529</td>\n",
       "      <td>2017-02-12</td>\n",
       "    </tr>\n",
       "    <tr>\n",
       "      <th>1</th>\n",
       "      <td>55.0</td>\n",
       "      <td>F</td>\n",
       "      <td>0610b486422d4921ae7d2bf64640c50b</td>\n",
       "      <td>112000.0</td>\n",
       "      <td>376</td>\n",
       "      <td>2017-07-15</td>\n",
       "    </tr>\n",
       "    <tr>\n",
       "      <th>2</th>\n",
       "      <td>NaN</td>\n",
       "      <td>None</td>\n",
       "      <td>38fe809add3b4fcf9315a9694bb96ff5</td>\n",
       "      <td>NaN</td>\n",
       "      <td>14</td>\n",
       "      <td>2018-07-12</td>\n",
       "    </tr>\n",
       "    <tr>\n",
       "      <th>3</th>\n",
       "      <td>75.0</td>\n",
       "      <td>F</td>\n",
       "      <td>78afa995795e4d85b5d9ceeca43f5fef</td>\n",
       "      <td>100000.0</td>\n",
       "      <td>443</td>\n",
       "      <td>2017-05-09</td>\n",
       "    </tr>\n",
       "    <tr>\n",
       "      <th>4</th>\n",
       "      <td>NaN</td>\n",
       "      <td>None</td>\n",
       "      <td>a03223e636434f42ac4c3df47e8bac43</td>\n",
       "      <td>NaN</td>\n",
       "      <td>356</td>\n",
       "      <td>2017-08-04</td>\n",
       "    </tr>\n",
       "  </tbody>\n",
       "</table>\n",
       "</div>"
      ],
      "text/plain": [
       "    age gender                                id    income  tenure_length  \\\n",
       "0   NaN   None  68be06ca386d4c31939f3a4f0e3dd783       NaN            529   \n",
       "1  55.0      F  0610b486422d4921ae7d2bf64640c50b  112000.0            376   \n",
       "2   NaN   None  38fe809add3b4fcf9315a9694bb96ff5       NaN             14   \n",
       "3  75.0      F  78afa995795e4d85b5d9ceeca43f5fef  100000.0            443   \n",
       "4   NaN   None  a03223e636434f42ac4c3df47e8bac43       NaN            356   \n",
       "\n",
       "  joined_date  \n",
       "0  2017-02-12  \n",
       "1  2017-07-15  \n",
       "2  2018-07-12  \n",
       "3  2017-05-09  \n",
       "4  2017-08-04  "
      ]
     },
     "execution_count": 9,
     "metadata": {},
     "output_type": "execute_result"
    }
   ],
   "source": [
    "profile.head()"
   ]
  },
  {
   "cell_type": "code",
   "execution_count": 10,
   "metadata": {},
   "outputs": [
    {
     "data": {
      "text/html": [
       "<div>\n",
       "<style scoped>\n",
       "    .dataframe tbody tr th:only-of-type {\n",
       "        vertical-align: middle;\n",
       "    }\n",
       "\n",
       "    .dataframe tbody tr th {\n",
       "        vertical-align: top;\n",
       "    }\n",
       "\n",
       "    .dataframe thead th {\n",
       "        text-align: right;\n",
       "    }\n",
       "</style>\n",
       "<table border=\"1\" class=\"dataframe\">\n",
       "  <thead>\n",
       "    <tr style=\"text-align: right;\">\n",
       "      <th></th>\n",
       "      <th>channels</th>\n",
       "      <th>difficulty</th>\n",
       "      <th>duration</th>\n",
       "      <th>id</th>\n",
       "      <th>offer_type</th>\n",
       "      <th>reward</th>\n",
       "    </tr>\n",
       "  </thead>\n",
       "  <tbody>\n",
       "    <tr>\n",
       "      <th>0</th>\n",
       "      <td>[email, mobile, social]</td>\n",
       "      <td>10</td>\n",
       "      <td>7</td>\n",
       "      <td>ae264e3637204a6fb9bb56bc8210ddfd</td>\n",
       "      <td>bogo</td>\n",
       "      <td>10</td>\n",
       "    </tr>\n",
       "    <tr>\n",
       "      <th>1</th>\n",
       "      <td>[web, email, mobile, social]</td>\n",
       "      <td>10</td>\n",
       "      <td>5</td>\n",
       "      <td>4d5c57ea9a6940dd891ad53e9dbe8da0</td>\n",
       "      <td>bogo</td>\n",
       "      <td>10</td>\n",
       "    </tr>\n",
       "    <tr>\n",
       "      <th>2</th>\n",
       "      <td>[web, email, mobile]</td>\n",
       "      <td>0</td>\n",
       "      <td>4</td>\n",
       "      <td>3f207df678b143eea3cee63160fa8bed</td>\n",
       "      <td>informational</td>\n",
       "      <td>0</td>\n",
       "    </tr>\n",
       "    <tr>\n",
       "      <th>3</th>\n",
       "      <td>[web, email, mobile]</td>\n",
       "      <td>5</td>\n",
       "      <td>7</td>\n",
       "      <td>9b98b8c7a33c4b65b9aebfe6a799e6d9</td>\n",
       "      <td>bogo</td>\n",
       "      <td>5</td>\n",
       "    </tr>\n",
       "    <tr>\n",
       "      <th>4</th>\n",
       "      <td>[web, email]</td>\n",
       "      <td>20</td>\n",
       "      <td>10</td>\n",
       "      <td>0b1e1539f2cc45b7b9fa7c272da2e1d7</td>\n",
       "      <td>discount</td>\n",
       "      <td>5</td>\n",
       "    </tr>\n",
       "  </tbody>\n",
       "</table>\n",
       "</div>"
      ],
      "text/plain": [
       "                       channels  difficulty  duration  \\\n",
       "0       [email, mobile, social]          10         7   \n",
       "1  [web, email, mobile, social]          10         5   \n",
       "2          [web, email, mobile]           0         4   \n",
       "3          [web, email, mobile]           5         7   \n",
       "4                  [web, email]          20        10   \n",
       "\n",
       "                                 id     offer_type  reward  \n",
       "0  ae264e3637204a6fb9bb56bc8210ddfd           bogo      10  \n",
       "1  4d5c57ea9a6940dd891ad53e9dbe8da0           bogo      10  \n",
       "2  3f207df678b143eea3cee63160fa8bed  informational       0  \n",
       "3  9b98b8c7a33c4b65b9aebfe6a799e6d9           bogo       5  \n",
       "4  0b1e1539f2cc45b7b9fa7c272da2e1d7       discount       5  "
      ]
     },
     "execution_count": 10,
     "metadata": {},
     "output_type": "execute_result"
    }
   ],
   "source": [
    "portfolio.head()"
   ]
  },
  {
   "cell_type": "code",
   "execution_count": 11,
   "metadata": {},
   "outputs": [],
   "source": [
    "web = []\n",
    "email = []\n",
    "mobile = []\n",
    "social = []\n",
    "for row in portfolio.itertuples():\n",
    "    if \"web\" in row.channels:\n",
    "        web.append(1)\n",
    "    else:\n",
    "        web.append(0)\n",
    "    if \"email\" in row.channels:\n",
    "        email.append(1)\n",
    "    else:\n",
    "        email.append(0)\n",
    "    if  \"mobile\" in row.channels:\n",
    "        mobile.append(1)\n",
    "    else:\n",
    "        mobile.append(0)\n",
    "    if \"social\" in row.channels:\n",
    "        social.append(1)\n",
    "    else:\n",
    "        social.append(0)\n",
    "portfolio[\"channel_type_web\"] = web\n",
    "portfolio[\"channel_type_email\"] = email\n",
    "portfolio[\"channel_type_mobile\"] = mobile\n",
    "portfolio[\"channel_type_social\"] = social"
   ]
  },
  {
   "cell_type": "code",
   "execution_count": 12,
   "metadata": {},
   "outputs": [],
   "source": [
    "portfolio = pd.get_dummies(portfolio, columns=[\"offer_type\"])"
   ]
  },
  {
   "cell_type": "code",
   "execution_count": 13,
   "metadata": {},
   "outputs": [],
   "source": [
    "portfolio.drop([\"channels\"], axis=1, inplace=True)"
   ]
  },
  {
   "cell_type": "code",
   "execution_count": 14,
   "metadata": {},
   "outputs": [
    {
     "data": {
      "text/html": [
       "<div>\n",
       "<style scoped>\n",
       "    .dataframe tbody tr th:only-of-type {\n",
       "        vertical-align: middle;\n",
       "    }\n",
       "\n",
       "    .dataframe tbody tr th {\n",
       "        vertical-align: top;\n",
       "    }\n",
       "\n",
       "    .dataframe thead th {\n",
       "        text-align: right;\n",
       "    }\n",
       "</style>\n",
       "<table border=\"1\" class=\"dataframe\">\n",
       "  <thead>\n",
       "    <tr style=\"text-align: right;\">\n",
       "      <th></th>\n",
       "      <th>difficulty</th>\n",
       "      <th>duration</th>\n",
       "      <th>id</th>\n",
       "      <th>reward</th>\n",
       "      <th>channel_type_web</th>\n",
       "      <th>channel_type_email</th>\n",
       "      <th>channel_type_mobile</th>\n",
       "      <th>channel_type_social</th>\n",
       "      <th>offer_type_bogo</th>\n",
       "      <th>offer_type_discount</th>\n",
       "      <th>offer_type_informational</th>\n",
       "    </tr>\n",
       "  </thead>\n",
       "  <tbody>\n",
       "    <tr>\n",
       "      <th>0</th>\n",
       "      <td>10</td>\n",
       "      <td>7</td>\n",
       "      <td>ae264e3637204a6fb9bb56bc8210ddfd</td>\n",
       "      <td>10</td>\n",
       "      <td>0</td>\n",
       "      <td>1</td>\n",
       "      <td>1</td>\n",
       "      <td>1</td>\n",
       "      <td>1</td>\n",
       "      <td>0</td>\n",
       "      <td>0</td>\n",
       "    </tr>\n",
       "    <tr>\n",
       "      <th>1</th>\n",
       "      <td>10</td>\n",
       "      <td>5</td>\n",
       "      <td>4d5c57ea9a6940dd891ad53e9dbe8da0</td>\n",
       "      <td>10</td>\n",
       "      <td>1</td>\n",
       "      <td>1</td>\n",
       "      <td>1</td>\n",
       "      <td>1</td>\n",
       "      <td>1</td>\n",
       "      <td>0</td>\n",
       "      <td>0</td>\n",
       "    </tr>\n",
       "    <tr>\n",
       "      <th>2</th>\n",
       "      <td>0</td>\n",
       "      <td>4</td>\n",
       "      <td>3f207df678b143eea3cee63160fa8bed</td>\n",
       "      <td>0</td>\n",
       "      <td>1</td>\n",
       "      <td>1</td>\n",
       "      <td>1</td>\n",
       "      <td>0</td>\n",
       "      <td>0</td>\n",
       "      <td>0</td>\n",
       "      <td>1</td>\n",
       "    </tr>\n",
       "    <tr>\n",
       "      <th>3</th>\n",
       "      <td>5</td>\n",
       "      <td>7</td>\n",
       "      <td>9b98b8c7a33c4b65b9aebfe6a799e6d9</td>\n",
       "      <td>5</td>\n",
       "      <td>1</td>\n",
       "      <td>1</td>\n",
       "      <td>1</td>\n",
       "      <td>0</td>\n",
       "      <td>1</td>\n",
       "      <td>0</td>\n",
       "      <td>0</td>\n",
       "    </tr>\n",
       "    <tr>\n",
       "      <th>4</th>\n",
       "      <td>20</td>\n",
       "      <td>10</td>\n",
       "      <td>0b1e1539f2cc45b7b9fa7c272da2e1d7</td>\n",
       "      <td>5</td>\n",
       "      <td>1</td>\n",
       "      <td>1</td>\n",
       "      <td>0</td>\n",
       "      <td>0</td>\n",
       "      <td>0</td>\n",
       "      <td>1</td>\n",
       "      <td>0</td>\n",
       "    </tr>\n",
       "  </tbody>\n",
       "</table>\n",
       "</div>"
      ],
      "text/plain": [
       "   difficulty  duration                                id  reward  \\\n",
       "0          10         7  ae264e3637204a6fb9bb56bc8210ddfd      10   \n",
       "1          10         5  4d5c57ea9a6940dd891ad53e9dbe8da0      10   \n",
       "2           0         4  3f207df678b143eea3cee63160fa8bed       0   \n",
       "3           5         7  9b98b8c7a33c4b65b9aebfe6a799e6d9       5   \n",
       "4          20        10  0b1e1539f2cc45b7b9fa7c272da2e1d7       5   \n",
       "\n",
       "   channel_type_web  channel_type_email  channel_type_mobile  \\\n",
       "0                 0                   1                    1   \n",
       "1                 1                   1                    1   \n",
       "2                 1                   1                    1   \n",
       "3                 1                   1                    1   \n",
       "4                 1                   1                    0   \n",
       "\n",
       "   channel_type_social  offer_type_bogo  offer_type_discount  \\\n",
       "0                    1                1                    0   \n",
       "1                    1                1                    0   \n",
       "2                    0                0                    0   \n",
       "3                    0                1                    0   \n",
       "4                    0                0                    1   \n",
       "\n",
       "   offer_type_informational  \n",
       "0                         0  \n",
       "1                         0  \n",
       "2                         1  \n",
       "3                         0  \n",
       "4                         0  "
      ]
     },
     "execution_count": 14,
     "metadata": {},
     "output_type": "execute_result"
    }
   ],
   "source": [
    "portfolio.head()"
   ]
  },
  {
   "cell_type": "code",
   "execution_count": 15,
   "metadata": {},
   "outputs": [],
   "source": [
    "transcript_copy = pd.read_json('data/transcript.json', orient='records', lines=True)"
   ]
  },
  {
   "cell_type": "code",
   "execution_count": 16,
   "metadata": {},
   "outputs": [
    {
     "data": {
      "text/plain": [
       "transaction        138953\n",
       "offer received      76277\n",
       "offer viewed        57725\n",
       "offer completed     33579\n",
       "Name: event, dtype: int64"
      ]
     },
     "execution_count": 16,
     "metadata": {},
     "output_type": "execute_result"
    }
   ],
   "source": [
    "transcript[\"event\"].value_counts()"
   ]
  },
  {
   "cell_type": "code",
   "execution_count": 17,
   "metadata": {},
   "outputs": [
    {
     "data": {
      "text/plain": [
       "12654    {'amount': 0.8300000000000001}\n",
       "12657                 {'amount': 34.56}\n",
       "12659                 {'amount': 13.23}\n",
       "12670                 {'amount': 19.51}\n",
       "12671                 {'amount': 18.97}\n",
       "Name: value, dtype: object"
      ]
     },
     "execution_count": 17,
     "metadata": {},
     "output_type": "execute_result"
    }
   ],
   "source": [
    "transcript[transcript[\"event\"] == \"transaction\"][\"value\"].head()"
   ]
  },
  {
   "cell_type": "code",
   "execution_count": 18,
   "metadata": {},
   "outputs": [
    {
     "data": {
      "text/plain": [
       "0    {'offer id': '9b98b8c7a33c4b65b9aebfe6a799e6d9'}\n",
       "1    {'offer id': '0b1e1539f2cc45b7b9fa7c272da2e1d7'}\n",
       "2    {'offer id': '2906b810c7d4411798c6938adc9daaa5'}\n",
       "3    {'offer id': 'fafdcd668e3743c1bb461111dcafc2a4'}\n",
       "4    {'offer id': '4d5c57ea9a6940dd891ad53e9dbe8da0'}\n",
       "Name: value, dtype: object"
      ]
     },
     "execution_count": 18,
     "metadata": {},
     "output_type": "execute_result"
    }
   ],
   "source": [
    "transcript[transcript[\"event\"] == \"offer received\"][\"value\"].head()"
   ]
  },
  {
   "cell_type": "code",
   "execution_count": 19,
   "metadata": {},
   "outputs": [
    {
     "data": {
      "text/plain": [
       "12650    {'offer id': 'f19421c1d4aa40978ebb69ca19b0e20d'}\n",
       "12651    {'offer id': '5a8bc65990b245e5a138643cd4eb9837'}\n",
       "12652    {'offer id': '4d5c57ea9a6940dd891ad53e9dbe8da0'}\n",
       "12653    {'offer id': 'ae264e3637204a6fb9bb56bc8210ddfd'}\n",
       "12655    {'offer id': '5a8bc65990b245e5a138643cd4eb9837'}\n",
       "Name: value, dtype: object"
      ]
     },
     "execution_count": 19,
     "metadata": {},
     "output_type": "execute_result"
    }
   ],
   "source": [
    "transcript[transcript[\"event\"] == \"offer viewed\"][\"value\"].head()"
   ]
  },
  {
   "cell_type": "code",
   "execution_count": 20,
   "metadata": {},
   "outputs": [
    {
     "data": {
      "text/plain": [
       "12658    {'offer_id': '2906b810c7d4411798c6938adc9daaa5...\n",
       "12672    {'offer_id': 'fafdcd668e3743c1bb461111dcafc2a4...\n",
       "12679    {'offer_id': '9b98b8c7a33c4b65b9aebfe6a799e6d9...\n",
       "12692    {'offer_id': 'ae264e3637204a6fb9bb56bc8210ddfd...\n",
       "12697    {'offer_id': '4d5c57ea9a6940dd891ad53e9dbe8da0...\n",
       "Name: value, dtype: object"
      ]
     },
     "execution_count": 20,
     "metadata": {},
     "output_type": "execute_result"
    }
   ],
   "source": [
    "transcript[transcript[\"event\"] == \"offer completed\"][\"value\"].head()"
   ]
  },
  {
   "cell_type": "markdown",
   "metadata": {},
   "source": [
    "The data type of \"value\" column depends on the \"event\" values. I'll process them manually."
   ]
  },
  {
   "cell_type": "code",
   "execution_count": 21,
   "metadata": {},
   "outputs": [],
   "source": [
    "# lists for dummies\n",
    "transaction = []\n",
    "offer_received = []\n",
    "offer_viewed = []\n",
    "offer_completed = []\n",
    "\n",
    "offer_ids= []\n",
    "transaction_amounts = []\n",
    "complete_rewards = []\n",
    "\n",
    "for row in transcript.itertuples():\n",
    "    event = row.event\n",
    "    \n",
    "    if event == \"transaction\":\n",
    "        transaction.append(1)\n",
    "        transaction_amounts.append(row.value.get(\"amount\"))\n",
    "        \n",
    "        \n",
    "        offer_received.append(0)\n",
    "        offer_viewed.append(0)\n",
    "        offer_completed.append(0)\n",
    "        offer_ids.append(None)\n",
    "        complete_rewards.append(np.nan)\n",
    "\n",
    "    elif event == \"offer received\":\n",
    "        offer_received.append(1)\n",
    "        offer_ids.append(row.value.get(\"offer id\"))\n",
    "        \n",
    "        offer_viewed.append(0)\n",
    "        offer_completed.append(0)\n",
    "        transaction.append(0)\n",
    "        transaction_amounts.append(np.nan)\n",
    "        complete_rewards.append(np.nan)\n",
    "\n",
    "    elif event == \"offer viewed\":\n",
    "        offer_viewed.append(1)\n",
    "        offer_ids.append(row.value.get(\"offer id\"))\n",
    "        \n",
    "        offer_received.append(0)\n",
    "        offer_completed.append(0)\n",
    "        complete_rewards.append(np.nan)\n",
    "        transaction.append(0)\n",
    "        transaction_amounts.append(np.nan)\n",
    "        \n",
    "    else: # offer complete\n",
    "        offer_completed.append(1)\n",
    "        offer_ids.append(row.value.get(\"offer_id\"))\n",
    "        complete_rewards.append(row.value.get(\"reward\"))\n",
    "        \n",
    "        offer_received.append(0)\n",
    "        offer_viewed.append(0)\n",
    "        transaction.append(0)\n",
    "        transaction_amounts.append(np.nan)\n",
    "\n",
    "transcript[\"event_type_offer_received\"] = offer_received\n",
    "transcript[\"event_type_offer_viewed\"] = offer_viewed\n",
    "transcript[\"event_type_transaction\"] = transaction\n",
    "transcript[\"event_type_offer_completed\"] = offer_completed\n",
    "\n",
    "transcript[\"offer_id\"] = offer_ids\n",
    "transcript[\"transaction_amount\"] = transaction_amounts\n",
    "transcript[\"reward_amount\"] = complete_rewards\n",
    "\n"
   ]
  },
  {
   "cell_type": "code",
   "execution_count": 22,
   "metadata": {},
   "outputs": [],
   "source": [
    "transcript.drop([\"event\", \"value\"], axis=1, inplace=True)"
   ]
  },
  {
   "cell_type": "code",
   "execution_count": 23,
   "metadata": {},
   "outputs": [
    {
     "data": {
      "text/html": [
       "<div>\n",
       "<style scoped>\n",
       "    .dataframe tbody tr th:only-of-type {\n",
       "        vertical-align: middle;\n",
       "    }\n",
       "\n",
       "    .dataframe tbody tr th {\n",
       "        vertical-align: top;\n",
       "    }\n",
       "\n",
       "    .dataframe thead th {\n",
       "        text-align: right;\n",
       "    }\n",
       "</style>\n",
       "<table border=\"1\" class=\"dataframe\">\n",
       "  <thead>\n",
       "    <tr style=\"text-align: right;\">\n",
       "      <th></th>\n",
       "      <th>person</th>\n",
       "      <th>time</th>\n",
       "      <th>event_type_offer_received</th>\n",
       "      <th>event_type_offer_viewed</th>\n",
       "      <th>event_type_transaction</th>\n",
       "      <th>event_type_offer_completed</th>\n",
       "      <th>offer_id</th>\n",
       "      <th>transaction_amount</th>\n",
       "      <th>reward_amount</th>\n",
       "    </tr>\n",
       "  </thead>\n",
       "  <tbody>\n",
       "    <tr>\n",
       "      <th>0</th>\n",
       "      <td>78afa995795e4d85b5d9ceeca43f5fef</td>\n",
       "      <td>0</td>\n",
       "      <td>1</td>\n",
       "      <td>0</td>\n",
       "      <td>0</td>\n",
       "      <td>0</td>\n",
       "      <td>9b98b8c7a33c4b65b9aebfe6a799e6d9</td>\n",
       "      <td>NaN</td>\n",
       "      <td>NaN</td>\n",
       "    </tr>\n",
       "    <tr>\n",
       "      <th>1</th>\n",
       "      <td>a03223e636434f42ac4c3df47e8bac43</td>\n",
       "      <td>0</td>\n",
       "      <td>1</td>\n",
       "      <td>0</td>\n",
       "      <td>0</td>\n",
       "      <td>0</td>\n",
       "      <td>0b1e1539f2cc45b7b9fa7c272da2e1d7</td>\n",
       "      <td>NaN</td>\n",
       "      <td>NaN</td>\n",
       "    </tr>\n",
       "    <tr>\n",
       "      <th>2</th>\n",
       "      <td>e2127556f4f64592b11af22de27a7932</td>\n",
       "      <td>0</td>\n",
       "      <td>1</td>\n",
       "      <td>0</td>\n",
       "      <td>0</td>\n",
       "      <td>0</td>\n",
       "      <td>2906b810c7d4411798c6938adc9daaa5</td>\n",
       "      <td>NaN</td>\n",
       "      <td>NaN</td>\n",
       "    </tr>\n",
       "    <tr>\n",
       "      <th>3</th>\n",
       "      <td>8ec6ce2a7e7949b1bf142def7d0e0586</td>\n",
       "      <td>0</td>\n",
       "      <td>1</td>\n",
       "      <td>0</td>\n",
       "      <td>0</td>\n",
       "      <td>0</td>\n",
       "      <td>fafdcd668e3743c1bb461111dcafc2a4</td>\n",
       "      <td>NaN</td>\n",
       "      <td>NaN</td>\n",
       "    </tr>\n",
       "    <tr>\n",
       "      <th>4</th>\n",
       "      <td>68617ca6246f4fbc85e91a2a49552598</td>\n",
       "      <td>0</td>\n",
       "      <td>1</td>\n",
       "      <td>0</td>\n",
       "      <td>0</td>\n",
       "      <td>0</td>\n",
       "      <td>4d5c57ea9a6940dd891ad53e9dbe8da0</td>\n",
       "      <td>NaN</td>\n",
       "      <td>NaN</td>\n",
       "    </tr>\n",
       "  </tbody>\n",
       "</table>\n",
       "</div>"
      ],
      "text/plain": [
       "                             person  time  event_type_offer_received  \\\n",
       "0  78afa995795e4d85b5d9ceeca43f5fef     0                          1   \n",
       "1  a03223e636434f42ac4c3df47e8bac43     0                          1   \n",
       "2  e2127556f4f64592b11af22de27a7932     0                          1   \n",
       "3  8ec6ce2a7e7949b1bf142def7d0e0586     0                          1   \n",
       "4  68617ca6246f4fbc85e91a2a49552598     0                          1   \n",
       "\n",
       "   event_type_offer_viewed  event_type_transaction  \\\n",
       "0                        0                       0   \n",
       "1                        0                       0   \n",
       "2                        0                       0   \n",
       "3                        0                       0   \n",
       "4                        0                       0   \n",
       "\n",
       "   event_type_offer_completed                          offer_id  \\\n",
       "0                           0  9b98b8c7a33c4b65b9aebfe6a799e6d9   \n",
       "1                           0  0b1e1539f2cc45b7b9fa7c272da2e1d7   \n",
       "2                           0  2906b810c7d4411798c6938adc9daaa5   \n",
       "3                           0  fafdcd668e3743c1bb461111dcafc2a4   \n",
       "4                           0  4d5c57ea9a6940dd891ad53e9dbe8da0   \n",
       "\n",
       "   transaction_amount  reward_amount  \n",
       "0                 NaN            NaN  \n",
       "1                 NaN            NaN  \n",
       "2                 NaN            NaN  \n",
       "3                 NaN            NaN  \n",
       "4                 NaN            NaN  "
      ]
     },
     "execution_count": 23,
     "metadata": {},
     "output_type": "execute_result"
    }
   ],
   "source": [
    "transcript.head()"
   ]
  },
  {
   "cell_type": "code",
   "execution_count": 24,
   "metadata": {},
   "outputs": [],
   "source": [
    "# Maunually unit testing the transcript df dummies\n"
   ]
  },
  {
   "cell_type": "code",
   "execution_count": 25,
   "metadata": {},
   "outputs": [],
   "source": [
    "# transaction amount test values\n",
    "original_transaction_amount_vals = []\n",
    "for row in transcript_copy.itertuples():\n",
    "    event = row.event\n",
    "    if event == \"transaction\":\n",
    "        original_transaction_amount_vals.append(row.value.get(\"amount\"))\n",
    "    else:\n",
    "        original_transaction_amount_vals.append(0)\n",
    "\n",
    "processed_transaction_amount_vals = list(transcript[\"transaction_amount\"].apply(lambda x: 0 if np.isnan(x) else x))\n",
    "\n",
    "\n",
    "# reward amount test values\n",
    "original_discount_amount_vals = []\n",
    "for row in transcript_copy.itertuples():\n",
    "    event = row.event\n",
    "    if event == \"offer completed\":\n",
    "        original_discount_amount_vals.append(row.value.get(\"reward\"))\n",
    "    else:\n",
    "        original_discount_amount_vals.append(0)\n",
    "\n",
    "processed_discount_amount_vals = list(transcript[\"reward_amount\"].apply(lambda x: 0 if np.isnan(x) else x))\n"
   ]
  },
  {
   "cell_type": "code",
   "execution_count": 26,
   "metadata": {},
   "outputs": [
    {
     "name": "stdout",
     "output_type": "stream",
     "text": [
      "transaction test: pass\n",
      "offer received test: pass\n",
      "offer viewed test: pass\n",
      "offer completed test: pass\n",
      "transaction amount test: pass\n",
      "reward amount test: pass\n"
     ]
    }
   ],
   "source": [
    "assert transcript[transcript[\"event_type_transaction\"] == 1][\"event_type_transaction\"].count() == transcript_copy[transcript_copy[\"event\"] == \"transaction\"][\"event\"].count(), \"transaction counts are incorrect\"\n",
    "print(\"transaction test: pass\")\n",
    "\n",
    "assert transcript[transcript[\"event_type_offer_received\"] == 1][\"event_type_offer_received\"].count() == transcript_copy[transcript_copy[\"event\"] == \"offer received\"][\"event\"].count(), \"offer received counts are incorrect\"\n",
    "print(\"offer received test: pass\")\n",
    "\n",
    "transcript[transcript[\"event_type_offer_viewed\"] == 1][\"event_type_offer_viewed\"].count()  == transcript_copy[transcript_copy[\"event\"] == \"offer viewed\"][\"event\"].count(), \"offer viewed counts are incorrect\"\n",
    "print(\"offer viewed test: pass\")\n",
    "\n",
    "transcript[transcript[\"event_type_offer_completed\"] == 1][\"event_type_offer_completed\"].count()  == transcript_copy[transcript_copy[\"event\"] == \"offer completed\"][\"event\"].count(), \"offer completed counts are incorrect\"\n",
    "print(\"offer completed test: pass\")\n",
    "\n",
    "\n",
    "assert original_transaction_amount_vals == processed_transaction_amount_vals, \"transaction amount is incorrect\"\n",
    "print(\"transaction amount test: pass\")\n",
    "\n",
    "assert original_discount_amount_vals == processed_discount_amount_vals, \"reward amount is incorrect\"\n",
    "print(\"reward amount test: pass\")"
   ]
  },
  {
   "cell_type": "code",
   "execution_count": 27,
   "metadata": {},
   "outputs": [
    {
     "data": {
      "image/png": "[encoded data removed]",
      "text/plain": [
       "<Figure size 432x288 with 1 Axes>"
      ]
     },
     "metadata": {
      "needs_background": "light"
     },
     "output_type": "display_data"
    }
   ],
   "source": [
    "profile[\"joined_date\"].hist(bins=50);"
   ]
  },
  {
   "cell_type": "code",
   "execution_count": 28,
   "metadata": {},
   "outputs": [],
   "source": [
    "profile_copy = profile.copy()"
   ]
  },
  {
   "cell_type": "code",
   "execution_count": 29,
   "metadata": {},
   "outputs": [],
   "source": [
    "profile_copy.index = profile_copy[\"joined_date\"]"
   ]
  },
  {
   "cell_type": "code",
   "execution_count": 30,
   "metadata": {},
   "outputs": [],
   "source": [
    "joined_date_hist = profile_copy.groupby(pd.Grouper(freq='M')).describe()"
   ]
  },
  {
   "cell_type": "code",
   "execution_count": 31,
   "metadata": {},
   "outputs": [
    {
     "data": {
      "text/plain": [
       "joined_date\n",
       "2013-07-31      5.0\n",
       "2013-08-31     64.0\n",
       "2013-09-30     55.0\n",
       "2013-10-31     53.0\n",
       "2013-11-30     46.0\n",
       "2013-12-31     51.0\n",
       "2014-01-31     62.0\n",
       "2014-02-28     54.0\n",
       "2014-03-31     54.0\n",
       "2014-04-30     61.0\n",
       "2014-05-31     64.0\n",
       "2014-06-30     56.0\n",
       "2014-07-31     54.0\n",
       "2014-08-31     57.0\n",
       "2014-09-30     55.0\n",
       "2014-10-31     47.0\n",
       "2014-11-30     51.0\n",
       "2014-12-31     47.0\n",
       "2015-01-31     61.0\n",
       "2015-02-28     60.0\n",
       "2015-03-31     59.0\n",
       "2015-04-30     58.0\n",
       "2015-05-31     64.0\n",
       "2015-06-30     53.0\n",
       "2015-07-31     64.0\n",
       "2015-08-31    242.0\n",
       "2015-09-30    238.0\n",
       "2015-10-31    233.0\n",
       "2015-11-30    228.0\n",
       "2015-12-31    237.0\n",
       "              ...  \n",
       "2016-02-29    237.0\n",
       "2016-03-31    256.0\n",
       "2016-04-30    266.0\n",
       "2016-05-31    262.0\n",
       "2016-06-30    250.0\n",
       "2016-07-31    271.0\n",
       "2016-08-31    262.0\n",
       "2016-09-30    233.0\n",
       "2016-10-31    253.0\n",
       "2016-11-30    245.0\n",
       "2016-12-31    240.0\n",
       "2017-01-31    250.0\n",
       "2017-02-28    239.0\n",
       "2017-03-31    236.0\n",
       "2017-04-30    252.0\n",
       "2017-05-31    234.0\n",
       "2017-06-30    260.0\n",
       "2017-07-31    345.0\n",
       "2017-08-31    770.0\n",
       "2017-09-30    718.0\n",
       "2017-10-31    800.0\n",
       "2017-11-30    698.0\n",
       "2017-12-31    797.0\n",
       "2018-01-31    705.0\n",
       "2018-02-28    452.0\n",
       "2018-03-31    540.0\n",
       "2018-04-30    508.0\n",
       "2018-05-31    528.0\n",
       "2018-06-30    486.0\n",
       "2018-07-31    450.0\n",
       "Freq: M, Name: (age, count), Length: 61, dtype: float64"
      ]
     },
     "execution_count": 31,
     "metadata": {},
     "output_type": "execute_result"
    }
   ],
   "source": [
    "joined_date_hist.iloc[0:, 0]"
   ]
  },
  {
   "cell_type": "code",
   "execution_count": 32,
   "metadata": {},
   "outputs": [],
   "source": [
    "profile.to_csv(\"profile_datetime.csv\")"
   ]
  },
  {
   "cell_type": "code",
   "execution_count": 33,
   "metadata": {},
   "outputs": [
    {
     "data": {
      "text/plain": [
       "14825.0"
      ]
     },
     "execution_count": 33,
     "metadata": {},
     "output_type": "execute_result"
    }
   ],
   "source": [
    "joined_date_hist.iloc[:, 0].sum()"
   ]
  },
  {
   "cell_type": "code",
   "execution_count": 34,
   "metadata": {},
   "outputs": [
    {
     "data": {
      "text/plain": [
       "1355.0"
      ]
     },
     "execution_count": 34,
     "metadata": {},
     "output_type": "execute_result"
    }
   ],
   "source": [
    "joined_date_hist.iloc[0:25, 0].sum()"
   ]
  },
  {
   "cell_type": "code",
   "execution_count": 35,
   "metadata": {},
   "outputs": [
    {
     "data": {
      "text/plain": [
       "6018.0"
      ]
     },
     "execution_count": 35,
     "metadata": {},
     "output_type": "execute_result"
    }
   ],
   "source": [
    "joined_date_hist.iloc[25:49, 0].sum()"
   ]
  },
  {
   "cell_type": "code",
   "execution_count": 36,
   "metadata": {},
   "outputs": [
    {
     "data": {
      "text/plain": [
       "3718.0"
      ]
     },
     "execution_count": 36,
     "metadata": {},
     "output_type": "execute_result"
    }
   ],
   "source": [
    "joined_date_hist.iloc[50:55, 0].sum()"
   ]
  },
  {
   "cell_type": "code",
   "execution_count": 37,
   "metadata": {},
   "outputs": [
    {
     "data": {
      "text/plain": [
       "2964.0"
      ]
     },
     "execution_count": 37,
     "metadata": {},
     "output_type": "execute_result"
    }
   ],
   "source": [
    "joined_date_hist.iloc[55:, 0].sum()"
   ]
  },
  {
   "cell_type": "markdown",
   "metadata": {},
   "source": [
    "There seems to be abrupt changes in the number of newly joined customers around mid 2015, mid 2017, and early 2018. This might indicate that different numbers of samples were taken from different time frames. We should keep this in mind, especially when we generalize the findings at the end of this study."
   ]
  },
  {
   "cell_type": "code",
   "execution_count": 38,
   "metadata": {},
   "outputs": [
    {
     "data": {
      "text/plain": [
       "Index(['age', 'gender', 'id', 'income', 'tenure_length', 'joined_date'], dtype='object')"
      ]
     },
     "execution_count": 38,
     "metadata": {},
     "output_type": "execute_result"
    }
   ],
   "source": [
    "profile.columns"
   ]
  },
  {
   "cell_type": "code",
   "execution_count": 39,
   "metadata": {},
   "outputs": [
    {
     "data": {
      "text/plain": [
       "count    17000.000000\n",
       "mean       517.449882\n",
       "std        411.223904\n",
       "min          0.000000\n",
       "25%        208.000000\n",
       "50%        358.000000\n",
       "75%        791.000000\n",
       "max       1823.000000\n",
       "Name: tenure_length, dtype: float64"
      ]
     },
     "execution_count": 39,
     "metadata": {},
     "output_type": "execute_result"
    }
   ],
   "source": [
    "profile[\"tenure_length\"].describe()"
   ]
  },
  {
   "cell_type": "code",
   "execution_count": 94,
   "metadata": {
    "scrolled": true
   },
   "outputs": [
    {
     "name": "stdout",
     "output_type": "stream",
     "text": [
      "284.7073128223419\n"
     ]
    }
   ],
   "source": [
    "t1 = time.time()\n",
    "total_transaction_amounts = []\n",
    "for row in profile.itertuples():\n",
    "    total_transaction_amounts.append(transcript[transcript[\"person\"] == row.id][\"transaction_amount\"].sum())\n",
    "print(time.time() - t1)"
   ]
  },
  {
   "cell_type": "code",
   "execution_count": 44,
   "metadata": {},
   "outputs": [],
   "source": [
    "profile[\"total_transaction_amount\"] = total_transaction_amounts"
   ]
  },
  {
   "cell_type": "code",
   "execution_count": 45,
   "metadata": {
    "scrolled": true
   },
   "outputs": [],
   "source": [
    "total_reward_amounts = []\n",
    "for row in profile.itertuples():\n",
    "    total_reward_amounts.append(transcript[transcript[\"person\"] == row.id][\"reward_amount\"].sum())"
   ]
  },
  {
   "cell_type": "code",
   "execution_count": 46,
   "metadata": {},
   "outputs": [],
   "source": [
    "profile[\"total_reward_amount\"] = total_reward_amounts"
   ]
  },
  {
   "cell_type": "code",
   "execution_count": 48,
   "metadata": {},
   "outputs": [],
   "source": [
    "profile.to_csv(\"profile_processed.csv\", index=False)"
   ]
  },
  {
   "cell_type": "code",
   "execution_count": 40,
   "metadata": {},
   "outputs": [],
   "source": [
    "profile = pd.read_csv(\"profile_processed.csv\")"
   ]
  },
  {
   "cell_type": "code",
   "execution_count": 41,
   "metadata": {},
   "outputs": [],
   "source": [
    "def compute_successful_discounts_by_type(discount_type, customer_id, transcript=transcript, portfolio=portfolio):\n",
    "    \n",
    "    offer_type = discount_type\n",
    "    successful_offer_ids = []\n",
    "\n",
    "    df_single_customer_transcript = transcript[(transcript[\"person\"] == customer_id)]\n",
    "\n",
    "    received_offers = transcript[(transcript[\"person\"] == customer_id) & (transcript[\"event_type_offer_received\"] == 1)][\"offer_id\"]\n",
    "\n",
    "    # remove the informational offers\n",
    "    informational_ids = list(portfolio[portfolio[\"offer_type_informational\"] == 1][\"id\"].values)\n",
    "    bogo_ids = list(portfolio[portfolio[\"offer_type_bogo\"] == 1][\"id\"].values)\n",
    "    discount_ids = list(portfolio[portfolio[\"offer_type_discount\"] == 1][\"id\"].values)\n",
    "\n",
    "    # select the specific type of offers only\n",
    "    if offer_type == \"bogo\":\n",
    "        del_offer_ids = informational_ids + discount_ids\n",
    "    elif offer_type == \"discount\":\n",
    "        del_offer_ids = informational_ids + bogo_ids\n",
    "\n",
    "    for offer_id in del_offer_ids:\n",
    "        received_offers = received_offers.drop(received_offers[received_offers == offer_id].index)\n",
    "\n",
    "    # remove the redundant offer ids\n",
    "    received_offers.drop_duplicates(inplace=True)\n",
    "\n",
    "    received_offer_ids = list(received_offers.values)\n",
    "    \n",
    "    for offer_id in received_offer_ids:\n",
    "        # get a list of time stamps each type of offers were received\n",
    "        received_time_list = df_single_customer_transcript[(df_single_customer_transcript[\"offer_id\"] == offer_id) & (df_single_customer_transcript[\"event_type_offer_received\"] == 1)][\"time\"].values\n",
    "\n",
    "        # get the length of days the offer is in effect\n",
    "        offer_effective_days = portfolio[portfolio[\"id\"] == offer_id][\"duration\"].values[0]\n",
    "\n",
    "        # for each offers, test if the offer was successful\n",
    "        for time in received_time_list:\n",
    "            # calculate the time the offer expires\n",
    "            offer_start_time = time\n",
    "\n",
    "            offer_end_time = offer_start_time + offer_effective_days * 24\n",
    "\n",
    "            # check if the offer was effective\n",
    "            offer_viewed_time = df_single_customer_transcript[(df_single_customer_transcript[\"offer_id\"] == offer_id) & (df_single_customer_transcript[\"event_type_offer_viewed\"] == 1) & (df_single_customer_transcript[\"time\"] >= offer_start_time) & (df_single_customer_transcript[\"time\"] <= offer_end_time)][\"time\"].values\n",
    "\n",
    "            offer_completed_time = df_single_customer_transcript[(df_single_customer_transcript[\"offer_id\"] == offer_id) & (df_single_customer_transcript[\"event_type_offer_completed\"] == 1) & (df_single_customer_transcript[\"time\"] >= offer_start_time) & (df_single_customer_transcript[\"time\"] <= offer_end_time)][\"time\"].values\n",
    "\n",
    "            if len(offer_viewed_time) > 0 and offer_viewed_time[0] <= offer_end_time and len(offer_completed_time) > 0 and offer_completed_time[0] <= offer_end_time and offer_viewed_time[0] <= offer_completed_time[0]:\n",
    "                successful_offer_ids.append(offer_id)\n",
    "    \n",
    "    return successful_offer_ids\n",
    "    "
   ]
  },
  {
   "cell_type": "code",
   "execution_count": 45,
   "metadata": {
    "scrolled": true
   },
   "outputs": [
    {
     "name": "stdout",
     "output_type": "stream",
     "text": [
      "1470.7453532218933\n"
     ]
    }
   ],
   "source": [
    "import time\n",
    "t1 = time.time()\n",
    "successful_bogo_counts = []\n",
    "successful_discount_counts = []\n",
    "\n",
    "for row in profile.itertuples():\n",
    "    successful_bogo_counts.append(len(compute_successful_discounts_by_type(\"bogo\", row.id)))\n",
    "    successful_discount_counts.append(len(compute_successful_discounts_by_type(\"discount\", row.id)))\n",
    "print(time.time() - t1)"
   ]
  },
  {
   "cell_type": "code",
   "execution_count": 46,
   "metadata": {},
   "outputs": [],
   "source": [
    "profile[\"successful_bogo_count\"] = successful_bogo_counts\n",
    "profile[\"successful_discount_count\"] = successful_discount_counts"
   ]
  },
  {
   "cell_type": "code",
   "execution_count": 47,
   "metadata": {},
   "outputs": [],
   "source": [
    "profile.to_csv(\"profile_processed2.csv\", index=False)"
   ]
  },
  {
   "cell_type": "markdown",
   "metadata": {},
   "source": [
    "Good until here\n",
    "\n",
    "work in progress below"
   ]
  },
  {
   "cell_type": "markdown",
   "metadata": {},
   "source": [
    "TODO: informational offer computation\n",
    "1: get the customer subset of transcript\n",
    "2: for BOGO and discount offers, remove transactions that took place during the BOGO/discount offers, and record the time to exclude\n",
    "3: separate the remaining time frame into the non-promotional and informational time\n",
    "4: calculate the transaction frequency/amount(?)\n"
   ]
  },
  {
   "cell_type": "code",
   "execution_count": 42,
   "metadata": {},
   "outputs": [],
   "source": [
    "profile = pd.read_csv(\"profile_processed2.csv\")"
   ]
  },
  {
   "cell_type": "code",
   "execution_count": 484,
   "metadata": {},
   "outputs": [],
   "source": [
    "def compute_additional_customer_features(customer_id, transcript=transcript, profile=profile):\n",
    "    df_single_customer_transcript = transcript[(transcript[\"person\"] == customer_id)]\n",
    "    \n",
    "    # get a list of offers a customer has received\n",
    "    received_offers = transcript[(transcript[\"person\"] == customer_id) & (transcript[\"event_type_offer_received\"] == 1)][\"offer_id\"]\n",
    "    \n",
    "    # convert the received_offers to the transcript index and the corresponding offer ids\n",
    "    received_offer_idxs = list(received_offers.index)\n",
    "    received_offer_ids = list(received_offers.values)\n",
    "    \n",
    "    offer_time_list = [[], [], []] # a list of lists to record when discount and bogo offers were in effect, the first list contains the beginning time, and the second list contains the ending time, and the last contains the type of offer (informational or discount/bogo)\n",
    "\n",
    "    for i in range(len(received_offer_idxs)):\n",
    "        idx = received_offer_idxs[i]\n",
    "        offer_id = received_offer_ids[i]\n",
    "        offer_start_time = transcript.iloc[idx, 1]\n",
    "        offer_effective_days = portfolio[portfolio[\"id\"] == offer_id][\"duration\"].values[0]\n",
    "        offer_end_time = offer_start_time + offer_effective_days * 24\n",
    "        offer_time_list[0].append(offer_start_time)\n",
    "        offer_time_list[1].append(offer_end_time)\n",
    "\n",
    "        informational_ids = list(portfolio[portfolio[\"offer_type_informational\"] == 1][\"id\"].values)\n",
    "        bogo_ids = list(portfolio[portfolio[\"offer_type_bogo\"] == 1][\"id\"].values)\n",
    "\n",
    "        if offer_id in informational_ids:\n",
    "            offer_time_list[2].append(\"informational\")\n",
    "        elif offer_id in bogo_ids:\n",
    "            offer_time_list[2].append(\"bogo\")\n",
    "        else:\n",
    "            offer_time_list[2].append(\"discount\")\n",
    "\n",
    "    # create a time table to fill when offers were in effect\n",
    "    number_of_days = 30\n",
    "    duration_hours = number_of_days * 24\n",
    "    df_timetable = pd.DataFrame(0, index=np.arange(duration_hours), columns=[\"discount\", \"bogo\", \"informational\", \"no_promotions\", \"transaction\", \"transaction_amount\"])\n",
    "\n",
    "    # record the discount, bogo, informational offers in effect\n",
    "    for i in range(len(offer_time_list[0])):\n",
    "        offer_type = offer_time_list[2][i]\n",
    "        start_time = offer_time_list[0][i]\n",
    "        end_time = offer_time_list[1][i]\n",
    "        if offer_type == \"discount\":\n",
    "            df_timetable.iloc[start_time:end_time, 0] += 1\n",
    "        elif offer_type == \"bogo\":\n",
    "            df_timetable.iloc[start_time:end_time, 1] += 1\n",
    "        else:\n",
    "            df_timetable.iloc[start_time:end_time, 2] += 1\n",
    "    \n",
    "    # calculate when there were no offers in effect\n",
    "    df_timetable[\"no_promotions\"] = np.where(((df_timetable[\"discount\"] + df_timetable[\"bogo\"] + df_timetable[\"informational\"]) == 0), 1, 0)\n",
    "    \n",
    "    # add the customer's transaction history and amount\n",
    "    transaction_time = df_single_customer_transcript[df_single_customer_transcript[\"event_type_transaction\"] == 1][\"time\"].values\n",
    "    transaction_amount = df_single_customer_transcript[df_single_customer_transcript[\"event_type_transaction\"] == 1][\"transaction_amount\"].values\n",
    "    \n",
    "    for i in range(len(transaction_time)):\n",
    "        df_timetable.iloc[transaction_time[i], 4] = 1\n",
    "        df_timetable.iloc[transaction_time[i], 5] = transaction_amount[i]\n",
    "#     print(df_timetable)\n",
    "    # calculate new feature values\n",
    "    days_discount = df_timetable[(df_timetable[\"discount\"] > 0)][\"discount\"].count()\n",
    "    days_bogo = df_timetable[(df_timetable[\"bogo\"] > 0)][\"bogo\"].count()\n",
    "    days_informational = df_timetable[(df_timetable[\"informational\"] > 0)][\"informational\"].count()\n",
    "    days_no_promotions = df_timetable[(df_timetable[\"no_promotions\"] > 0)][\"no_promotions\"].count()\n",
    "    discount_transaction_counts = df_timetable[(df_timetable[\"discount\"] > 0) & (df_timetable[\"transaction\"] == 1)][\"discount\"].count()\n",
    "    bogo_transaction_counts = df_timetable[(df_timetable[\"bogo\"] > 0) & (df_timetable[\"transaction\"] == 1)][\"bogo\"].count()\n",
    "    informational_transaction_counts = df_timetable[(df_timetable[\"informational\"] > 0) & (df_timetable[\"transaction\"] == 1)][\"informational\"].count()\n",
    "    no_promotions_transaction_counts = df_timetable[(df_timetable[\"no_promotions\"] > 0) & (df_timetable[\"transaction\"] == 1)][\"no_promotions\"].count()\n",
    "    discout_transaction_amount = df_timetable[(df_timetable[\"discount\"] > 0) & (df_timetable[\"transaction\"] == 1)][\"transaction_amount\"].sum()\n",
    "    bogo_transaction_amount = df_timetable[(df_timetable[\"bogo\"] > 0) & (df_timetable[\"transaction\"] == 1)][\"transaction_amount\"].sum()\n",
    "    informational_transaction_amount = df_timetable[(df_timetable[\"informational\"] > 0) & (df_timetable[\"transaction\"] == 1)][\"transaction_amount\"].sum()\n",
    "    no_promotions_transaction_amount = df_timetable[(df_timetable[\"no_promotions\"] > 0) & (df_timetable[\"transaction\"] == 1)][\"transaction_amount\"].sum()\n",
    "    overlap_days = df_timetable[((df_timetable[\"discount\"] + df_timetable[\"bogo\"]) > 1)][\"discount\"].count()\n",
    "    max_overlap = (df_timetable[\"discount\"] + df_timetable[\"bogo\"]).max()\n",
    "    \n",
    "    return days_discount, days_bogo, days_informational, days_no_promotions, discount_transaction_counts, bogo_transaction_counts, informational_transaction_counts, no_promotions_transaction_counts, discout_transaction_amount, bogo_transaction_amount, informational_transaction_amount, no_promotions_transaction_amount, overlap_days, max_overlap"
   ]
  },
  {
   "cell_type": "code",
   "execution_count": 356,
   "metadata": {},
   "outputs": [
    {
     "data": {
      "text/plain": [
       "'389bc3fa690240e798340f5a15918d5c'"
      ]
     },
     "execution_count": 356,
     "metadata": {},
     "output_type": "execute_result"
    }
   ],
   "source": [
    "# get customer transcript subset\n",
    "customer_idx = 8\n",
    "customer_id = profile.iloc[customer_idx, 2]\n",
    "customer_id"
   ]
  },
  {
   "cell_type": "code",
   "execution_count": 455,
   "metadata": {},
   "outputs": [],
   "source": [
    "customer_id = \"440cf1fd7580490c971d8c651ed962af\""
   ]
  },
  {
   "cell_type": "code",
   "execution_count": 456,
   "metadata": {},
   "outputs": [],
   "source": [
    "df_single_customer_transcript = transcript[(transcript[\"person\"] == customer_id)]"
   ]
  },
  {
   "cell_type": "code",
   "execution_count": 457,
   "metadata": {},
   "outputs": [
    {
     "data": {
      "text/html": [
       "<div>\n",
       "<style scoped>\n",
       "    .dataframe tbody tr th:only-of-type {\n",
       "        vertical-align: middle;\n",
       "    }\n",
       "\n",
       "    .dataframe tbody tr th {\n",
       "        vertical-align: top;\n",
       "    }\n",
       "\n",
       "    .dataframe thead th {\n",
       "        text-align: right;\n",
       "    }\n",
       "</style>\n",
       "<table border=\"1\" class=\"dataframe\">\n",
       "  <thead>\n",
       "    <tr style=\"text-align: right;\">\n",
       "      <th></th>\n",
       "      <th>person</th>\n",
       "      <th>time</th>\n",
       "      <th>event_type_offer_received</th>\n",
       "      <th>event_type_offer_viewed</th>\n",
       "      <th>event_type_transaction</th>\n",
       "      <th>event_type_offer_completed</th>\n",
       "      <th>offer_id</th>\n",
       "      <th>transaction_amount</th>\n",
       "      <th>reward_amount</th>\n",
       "    </tr>\n",
       "  </thead>\n",
       "  <tbody>\n",
       "    <tr>\n",
       "      <th>4061</th>\n",
       "      <td>440cf1fd7580490c971d8c651ed962af</td>\n",
       "      <td>0</td>\n",
       "      <td>1</td>\n",
       "      <td>0</td>\n",
       "      <td>0</td>\n",
       "      <td>0</td>\n",
       "      <td>2298d6c36e964ae4a3e7e9706d1fb8c2</td>\n",
       "      <td>NaN</td>\n",
       "      <td>NaN</td>\n",
       "    </tr>\n",
       "    <tr>\n",
       "      <th>32628</th>\n",
       "      <td>440cf1fd7580490c971d8c651ed962af</td>\n",
       "      <td>60</td>\n",
       "      <td>0</td>\n",
       "      <td>1</td>\n",
       "      <td>0</td>\n",
       "      <td>0</td>\n",
       "      <td>2298d6c36e964ae4a3e7e9706d1fb8c2</td>\n",
       "      <td>NaN</td>\n",
       "      <td>NaN</td>\n",
       "    </tr>\n",
       "    <tr>\n",
       "      <th>36914</th>\n",
       "      <td>440cf1fd7580490c971d8c651ed962af</td>\n",
       "      <td>78</td>\n",
       "      <td>0</td>\n",
       "      <td>0</td>\n",
       "      <td>1</td>\n",
       "      <td>0</td>\n",
       "      <td>None</td>\n",
       "      <td>16.61</td>\n",
       "      <td>NaN</td>\n",
       "    </tr>\n",
       "    <tr>\n",
       "      <th>36915</th>\n",
       "      <td>440cf1fd7580490c971d8c651ed962af</td>\n",
       "      <td>78</td>\n",
       "      <td>0</td>\n",
       "      <td>0</td>\n",
       "      <td>0</td>\n",
       "      <td>1</td>\n",
       "      <td>2298d6c36e964ae4a3e7e9706d1fb8c2</td>\n",
       "      <td>NaN</td>\n",
       "      <td>3.0</td>\n",
       "    </tr>\n",
       "    <tr>\n",
       "      <th>42027</th>\n",
       "      <td>440cf1fd7580490c971d8c651ed962af</td>\n",
       "      <td>102</td>\n",
       "      <td>0</td>\n",
       "      <td>0</td>\n",
       "      <td>1</td>\n",
       "      <td>0</td>\n",
       "      <td>None</td>\n",
       "      <td>22.33</td>\n",
       "      <td>NaN</td>\n",
       "    </tr>\n",
       "    <tr>\n",
       "      <th>57305</th>\n",
       "      <td>440cf1fd7580490c971d8c651ed962af</td>\n",
       "      <td>168</td>\n",
       "      <td>1</td>\n",
       "      <td>0</td>\n",
       "      <td>0</td>\n",
       "      <td>0</td>\n",
       "      <td>2298d6c36e964ae4a3e7e9706d1fb8c2</td>\n",
       "      <td>NaN</td>\n",
       "      <td>NaN</td>\n",
       "    </tr>\n",
       "    <tr>\n",
       "      <th>77213</th>\n",
       "      <td>440cf1fd7580490c971d8c651ed962af</td>\n",
       "      <td>192</td>\n",
       "      <td>0</td>\n",
       "      <td>1</td>\n",
       "      <td>0</td>\n",
       "      <td>0</td>\n",
       "      <td>2298d6c36e964ae4a3e7e9706d1fb8c2</td>\n",
       "      <td>NaN</td>\n",
       "      <td>NaN</td>\n",
       "    </tr>\n",
       "    <tr>\n",
       "      <th>87137</th>\n",
       "      <td>440cf1fd7580490c971d8c651ed962af</td>\n",
       "      <td>222</td>\n",
       "      <td>0</td>\n",
       "      <td>0</td>\n",
       "      <td>1</td>\n",
       "      <td>0</td>\n",
       "      <td>None</td>\n",
       "      <td>14.17</td>\n",
       "      <td>NaN</td>\n",
       "    </tr>\n",
       "    <tr>\n",
       "      <th>87138</th>\n",
       "      <td>440cf1fd7580490c971d8c651ed962af</td>\n",
       "      <td>222</td>\n",
       "      <td>0</td>\n",
       "      <td>0</td>\n",
       "      <td>0</td>\n",
       "      <td>1</td>\n",
       "      <td>2298d6c36e964ae4a3e7e9706d1fb8c2</td>\n",
       "      <td>NaN</td>\n",
       "      <td>3.0</td>\n",
       "    </tr>\n",
       "    <tr>\n",
       "      <th>123543</th>\n",
       "      <td>440cf1fd7580490c971d8c651ed962af</td>\n",
       "      <td>336</td>\n",
       "      <td>0</td>\n",
       "      <td>0</td>\n",
       "      <td>1</td>\n",
       "      <td>0</td>\n",
       "      <td>None</td>\n",
       "      <td>8.63</td>\n",
       "      <td>NaN</td>\n",
       "    </tr>\n",
       "    <tr>\n",
       "      <th>154712</th>\n",
       "      <td>440cf1fd7580490c971d8c651ed962af</td>\n",
       "      <td>408</td>\n",
       "      <td>1</td>\n",
       "      <td>0</td>\n",
       "      <td>0</td>\n",
       "      <td>0</td>\n",
       "      <td>2298d6c36e964ae4a3e7e9706d1fb8c2</td>\n",
       "      <td>NaN</td>\n",
       "      <td>NaN</td>\n",
       "    </tr>\n",
       "    <tr>\n",
       "      <th>171214</th>\n",
       "      <td>440cf1fd7580490c971d8c651ed962af</td>\n",
       "      <td>420</td>\n",
       "      <td>0</td>\n",
       "      <td>1</td>\n",
       "      <td>0</td>\n",
       "      <td>0</td>\n",
       "      <td>2298d6c36e964ae4a3e7e9706d1fb8c2</td>\n",
       "      <td>NaN</td>\n",
       "      <td>NaN</td>\n",
       "    </tr>\n",
       "    <tr>\n",
       "      <th>174360</th>\n",
       "      <td>440cf1fd7580490c971d8c651ed962af</td>\n",
       "      <td>426</td>\n",
       "      <td>0</td>\n",
       "      <td>0</td>\n",
       "      <td>1</td>\n",
       "      <td>0</td>\n",
       "      <td>None</td>\n",
       "      <td>12.43</td>\n",
       "      <td>NaN</td>\n",
       "    </tr>\n",
       "    <tr>\n",
       "      <th>174361</th>\n",
       "      <td>440cf1fd7580490c971d8c651ed962af</td>\n",
       "      <td>426</td>\n",
       "      <td>0</td>\n",
       "      <td>0</td>\n",
       "      <td>0</td>\n",
       "      <td>1</td>\n",
       "      <td>2298d6c36e964ae4a3e7e9706d1fb8c2</td>\n",
       "      <td>NaN</td>\n",
       "      <td>3.0</td>\n",
       "    </tr>\n",
       "    <tr>\n",
       "      <th>177267</th>\n",
       "      <td>440cf1fd7580490c971d8c651ed962af</td>\n",
       "      <td>432</td>\n",
       "      <td>0</td>\n",
       "      <td>0</td>\n",
       "      <td>1</td>\n",
       "      <td>0</td>\n",
       "      <td>None</td>\n",
       "      <td>18.37</td>\n",
       "      <td>NaN</td>\n",
       "    </tr>\n",
       "    <tr>\n",
       "      <th>179956</th>\n",
       "      <td>440cf1fd7580490c971d8c651ed962af</td>\n",
       "      <td>438</td>\n",
       "      <td>0</td>\n",
       "      <td>0</td>\n",
       "      <td>1</td>\n",
       "      <td>0</td>\n",
       "      <td>None</td>\n",
       "      <td>19.86</td>\n",
       "      <td>NaN</td>\n",
       "    </tr>\n",
       "    <tr>\n",
       "      <th>184913</th>\n",
       "      <td>440cf1fd7580490c971d8c651ed962af</td>\n",
       "      <td>450</td>\n",
       "      <td>0</td>\n",
       "      <td>0</td>\n",
       "      <td>1</td>\n",
       "      <td>0</td>\n",
       "      <td>None</td>\n",
       "      <td>21.42</td>\n",
       "      <td>NaN</td>\n",
       "    </tr>\n",
       "    <tr>\n",
       "      <th>193186</th>\n",
       "      <td>440cf1fd7580490c971d8c651ed962af</td>\n",
       "      <td>474</td>\n",
       "      <td>0</td>\n",
       "      <td>0</td>\n",
       "      <td>1</td>\n",
       "      <td>0</td>\n",
       "      <td>None</td>\n",
       "      <td>20.68</td>\n",
       "      <td>NaN</td>\n",
       "    </tr>\n",
       "    <tr>\n",
       "      <th>205657</th>\n",
       "      <td>440cf1fd7580490c971d8c651ed962af</td>\n",
       "      <td>504</td>\n",
       "      <td>1</td>\n",
       "      <td>0</td>\n",
       "      <td>0</td>\n",
       "      <td>0</td>\n",
       "      <td>0b1e1539f2cc45b7b9fa7c272da2e1d7</td>\n",
       "      <td>NaN</td>\n",
       "      <td>NaN</td>\n",
       "    </tr>\n",
       "    <tr>\n",
       "      <th>218398</th>\n",
       "      <td>440cf1fd7580490c971d8c651ed962af</td>\n",
       "      <td>510</td>\n",
       "      <td>0</td>\n",
       "      <td>0</td>\n",
       "      <td>1</td>\n",
       "      <td>0</td>\n",
       "      <td>None</td>\n",
       "      <td>35.92</td>\n",
       "      <td>NaN</td>\n",
       "    </tr>\n",
       "    <tr>\n",
       "      <th>218399</th>\n",
       "      <td>440cf1fd7580490c971d8c651ed962af</td>\n",
       "      <td>510</td>\n",
       "      <td>0</td>\n",
       "      <td>0</td>\n",
       "      <td>0</td>\n",
       "      <td>1</td>\n",
       "      <td>0b1e1539f2cc45b7b9fa7c272da2e1d7</td>\n",
       "      <td>NaN</td>\n",
       "      <td>5.0</td>\n",
       "    </tr>\n",
       "    <tr>\n",
       "      <th>232877</th>\n",
       "      <td>440cf1fd7580490c971d8c651ed962af</td>\n",
       "      <td>540</td>\n",
       "      <td>0</td>\n",
       "      <td>1</td>\n",
       "      <td>0</td>\n",
       "      <td>0</td>\n",
       "      <td>0b1e1539f2cc45b7b9fa7c272da2e1d7</td>\n",
       "      <td>NaN</td>\n",
       "      <td>NaN</td>\n",
       "    </tr>\n",
       "    <tr>\n",
       "      <th>237370</th>\n",
       "      <td>440cf1fd7580490c971d8c651ed962af</td>\n",
       "      <td>552</td>\n",
       "      <td>0</td>\n",
       "      <td>0</td>\n",
       "      <td>1</td>\n",
       "      <td>0</td>\n",
       "      <td>None</td>\n",
       "      <td>17.84</td>\n",
       "      <td>NaN</td>\n",
       "    </tr>\n",
       "    <tr>\n",
       "      <th>243233</th>\n",
       "      <td>440cf1fd7580490c971d8c651ed962af</td>\n",
       "      <td>570</td>\n",
       "      <td>0</td>\n",
       "      <td>0</td>\n",
       "      <td>1</td>\n",
       "      <td>0</td>\n",
       "      <td>None</td>\n",
       "      <td>22.57</td>\n",
       "      <td>NaN</td>\n",
       "    </tr>\n",
       "    <tr>\n",
       "      <th>249223</th>\n",
       "      <td>440cf1fd7580490c971d8c651ed962af</td>\n",
       "      <td>576</td>\n",
       "      <td>1</td>\n",
       "      <td>0</td>\n",
       "      <td>0</td>\n",
       "      <td>0</td>\n",
       "      <td>2906b810c7d4411798c6938adc9daaa5</td>\n",
       "      <td>NaN</td>\n",
       "      <td>NaN</td>\n",
       "    </tr>\n",
       "    <tr>\n",
       "      <th>271783</th>\n",
       "      <td>440cf1fd7580490c971d8c651ed962af</td>\n",
       "      <td>600</td>\n",
       "      <td>0</td>\n",
       "      <td>0</td>\n",
       "      <td>1</td>\n",
       "      <td>0</td>\n",
       "      <td>None</td>\n",
       "      <td>15.59</td>\n",
       "      <td>NaN</td>\n",
       "    </tr>\n",
       "    <tr>\n",
       "      <th>271784</th>\n",
       "      <td>440cf1fd7580490c971d8c651ed962af</td>\n",
       "      <td>600</td>\n",
       "      <td>0</td>\n",
       "      <td>0</td>\n",
       "      <td>0</td>\n",
       "      <td>1</td>\n",
       "      <td>2906b810c7d4411798c6938adc9daaa5</td>\n",
       "      <td>NaN</td>\n",
       "      <td>2.0</td>\n",
       "    </tr>\n",
       "    <tr>\n",
       "      <th>296325</th>\n",
       "      <td>440cf1fd7580490c971d8c651ed962af</td>\n",
       "      <td>672</td>\n",
       "      <td>0</td>\n",
       "      <td>0</td>\n",
       "      <td>1</td>\n",
       "      <td>0</td>\n",
       "      <td>None</td>\n",
       "      <td>16.92</td>\n",
       "      <td>NaN</td>\n",
       "    </tr>\n",
       "    <tr>\n",
       "      <th>297921</th>\n",
       "      <td>440cf1fd7580490c971d8c651ed962af</td>\n",
       "      <td>678</td>\n",
       "      <td>0</td>\n",
       "      <td>0</td>\n",
       "      <td>1</td>\n",
       "      <td>0</td>\n",
       "      <td>None</td>\n",
       "      <td>19.02</td>\n",
       "      <td>NaN</td>\n",
       "    </tr>\n",
       "    <tr>\n",
       "      <th>305404</th>\n",
       "      <td>440cf1fd7580490c971d8c651ed962af</td>\n",
       "      <td>714</td>\n",
       "      <td>0</td>\n",
       "      <td>0</td>\n",
       "      <td>1</td>\n",
       "      <td>0</td>\n",
       "      <td>None</td>\n",
       "      <td>18.32</td>\n",
       "      <td>NaN</td>\n",
       "    </tr>\n",
       "  </tbody>\n",
       "</table>\n",
       "</div>"
      ],
      "text/plain": [
       "                                  person  time  event_type_offer_received  \\\n",
       "4061    440cf1fd7580490c971d8c651ed962af     0                          1   \n",
       "32628   440cf1fd7580490c971d8c651ed962af    60                          0   \n",
       "36914   440cf1fd7580490c971d8c651ed962af    78                          0   \n",
       "36915   440cf1fd7580490c971d8c651ed962af    78                          0   \n",
       "42027   440cf1fd7580490c971d8c651ed962af   102                          0   \n",
       "57305   440cf1fd7580490c971d8c651ed962af   168                          1   \n",
       "77213   440cf1fd7580490c971d8c651ed962af   192                          0   \n",
       "87137   440cf1fd7580490c971d8c651ed962af   222                          0   \n",
       "87138   440cf1fd7580490c971d8c651ed962af   222                          0   \n",
       "123543  440cf1fd7580490c971d8c651ed962af   336                          0   \n",
       "154712  440cf1fd7580490c971d8c651ed962af   408                          1   \n",
       "171214  440cf1fd7580490c971d8c651ed962af   420                          0   \n",
       "174360  440cf1fd7580490c971d8c651ed962af   426                          0   \n",
       "174361  440cf1fd7580490c971d8c651ed962af   426                          0   \n",
       "177267  440cf1fd7580490c971d8c651ed962af   432                          0   \n",
       "179956  440cf1fd7580490c971d8c651ed962af   438                          0   \n",
       "184913  440cf1fd7580490c971d8c651ed962af   450                          0   \n",
       "193186  440cf1fd7580490c971d8c651ed962af   474                          0   \n",
       "205657  440cf1fd7580490c971d8c651ed962af   504                          1   \n",
       "218398  440cf1fd7580490c971d8c651ed962af   510                          0   \n",
       "218399  440cf1fd7580490c971d8c651ed962af   510                          0   \n",
       "232877  440cf1fd7580490c971d8c651ed962af   540                          0   \n",
       "237370  440cf1fd7580490c971d8c651ed962af   552                          0   \n",
       "243233  440cf1fd7580490c971d8c651ed962af   570                          0   \n",
       "249223  440cf1fd7580490c971d8c651ed962af   576                          1   \n",
       "271783  440cf1fd7580490c971d8c651ed962af   600                          0   \n",
       "271784  440cf1fd7580490c971d8c651ed962af   600                          0   \n",
       "296325  440cf1fd7580490c971d8c651ed962af   672                          0   \n",
       "297921  440cf1fd7580490c971d8c651ed962af   678                          0   \n",
       "305404  440cf1fd7580490c971d8c651ed962af   714                          0   \n",
       "\n",
       "        event_type_offer_viewed  event_type_transaction  \\\n",
       "4061                          0                       0   \n",
       "32628                         1                       0   \n",
       "36914                         0                       1   \n",
       "36915                         0                       0   \n",
       "42027                         0                       1   \n",
       "57305                         0                       0   \n",
       "77213                         1                       0   \n",
       "87137                         0                       1   \n",
       "87138                         0                       0   \n",
       "123543                        0                       1   \n",
       "154712                        0                       0   \n",
       "171214                        1                       0   \n",
       "174360                        0                       1   \n",
       "174361                        0                       0   \n",
       "177267                        0                       1   \n",
       "179956                        0                       1   \n",
       "184913                        0                       1   \n",
       "193186                        0                       1   \n",
       "205657                        0                       0   \n",
       "218398                        0                       1   \n",
       "218399                        0                       0   \n",
       "232877                        1                       0   \n",
       "237370                        0                       1   \n",
       "243233                        0                       1   \n",
       "249223                        0                       0   \n",
       "271783                        0                       1   \n",
       "271784                        0                       0   \n",
       "296325                        0                       1   \n",
       "297921                        0                       1   \n",
       "305404                        0                       1   \n",
       "\n",
       "        event_type_offer_completed                          offer_id  \\\n",
       "4061                             0  2298d6c36e964ae4a3e7e9706d1fb8c2   \n",
       "32628                            0  2298d6c36e964ae4a3e7e9706d1fb8c2   \n",
       "36914                            0                              None   \n",
       "36915                            1  2298d6c36e964ae4a3e7e9706d1fb8c2   \n",
       "42027                            0                              None   \n",
       "57305                            0  2298d6c36e964ae4a3e7e9706d1fb8c2   \n",
       "77213                            0  2298d6c36e964ae4a3e7e9706d1fb8c2   \n",
       "87137                            0                              None   \n",
       "87138                            1  2298d6c36e964ae4a3e7e9706d1fb8c2   \n",
       "123543                           0                              None   \n",
       "154712                           0  2298d6c36e964ae4a3e7e9706d1fb8c2   \n",
       "171214                           0  2298d6c36e964ae4a3e7e9706d1fb8c2   \n",
       "174360                           0                              None   \n",
       "174361                           1  2298d6c36e964ae4a3e7e9706d1fb8c2   \n",
       "177267                           0                              None   \n",
       "179956                           0                              None   \n",
       "184913                           0                              None   \n",
       "193186                           0                              None   \n",
       "205657                           0  0b1e1539f2cc45b7b9fa7c272da2e1d7   \n",
       "218398                           0                              None   \n",
       "218399                           1  0b1e1539f2cc45b7b9fa7c272da2e1d7   \n",
       "232877                           0  0b1e1539f2cc45b7b9fa7c272da2e1d7   \n",
       "237370                           0                              None   \n",
       "243233                           0                              None   \n",
       "249223                           0  2906b810c7d4411798c6938adc9daaa5   \n",
       "271783                           0                              None   \n",
       "271784                           1  2906b810c7d4411798c6938adc9daaa5   \n",
       "296325                           0                              None   \n",
       "297921                           0                              None   \n",
       "305404                           0                              None   \n",
       "\n",
       "        transaction_amount  reward_amount  \n",
       "4061                   NaN            NaN  \n",
       "32628                  NaN            NaN  \n",
       "36914                16.61            NaN  \n",
       "36915                  NaN            3.0  \n",
       "42027                22.33            NaN  \n",
       "57305                  NaN            NaN  \n",
       "77213                  NaN            NaN  \n",
       "87137                14.17            NaN  \n",
       "87138                  NaN            3.0  \n",
       "123543                8.63            NaN  \n",
       "154712                 NaN            NaN  \n",
       "171214                 NaN            NaN  \n",
       "174360               12.43            NaN  \n",
       "174361                 NaN            3.0  \n",
       "177267               18.37            NaN  \n",
       "179956               19.86            NaN  \n",
       "184913               21.42            NaN  \n",
       "193186               20.68            NaN  \n",
       "205657                 NaN            NaN  \n",
       "218398               35.92            NaN  \n",
       "218399                 NaN            5.0  \n",
       "232877                 NaN            NaN  \n",
       "237370               17.84            NaN  \n",
       "243233               22.57            NaN  \n",
       "249223                 NaN            NaN  \n",
       "271783               15.59            NaN  \n",
       "271784                 NaN            2.0  \n",
       "296325               16.92            NaN  \n",
       "297921               19.02            NaN  \n",
       "305404               18.32            NaN  "
      ]
     },
     "execution_count": 457,
     "metadata": {},
     "output_type": "execute_result"
    }
   ],
   "source": [
    "df_single_customer_transcript"
   ]
  },
  {
   "cell_type": "code",
   "execution_count": 417,
   "metadata": {},
   "outputs": [
    {
     "data": {
      "text/plain": [
       "4061      2298d6c36e964ae4a3e7e9706d1fb8c2\n",
       "57305     2298d6c36e964ae4a3e7e9706d1fb8c2\n",
       "154712    2298d6c36e964ae4a3e7e9706d1fb8c2\n",
       "205657    0b1e1539f2cc45b7b9fa7c272da2e1d7\n",
       "249223    2906b810c7d4411798c6938adc9daaa5\n",
       "Name: offer_id, dtype: object"
      ]
     },
     "execution_count": 417,
     "metadata": {},
     "output_type": "execute_result"
    }
   ],
   "source": [
    "# get a list of offers a customer has received\n",
    "received_offers = transcript[(transcript[\"person\"] == customer_id) & (transcript[\"event_type_offer_received\"] == 1)][\"offer_id\"]\n",
    "\n",
    "received_offers "
   ]
  },
  {
   "cell_type": "code",
   "execution_count": 468,
   "metadata": {},
   "outputs": [],
   "source": [
    "received_offer_idxs = list(received_offers.index)\n",
    "received_offer_ids = list(received_offers.values)"
   ]
  },
  {
   "cell_type": "code",
   "execution_count": 483,
   "metadata": {},
   "outputs": [
    {
     "name": "stdout",
     "output_type": "stream",
     "text": [
      "start: 0, duration: 7, end: 168\n",
      "start: 168, duration: 7, end: 336\n",
      "start: 408, duration: 7, end: 576\n",
      "start: 504, duration: 10, end: 744\n",
      "start: 576, duration: 7, end: 744\n"
     ]
    }
   ],
   "source": [
    "offer_time_list = [[], [], []] # a list of lists to record when discount and bogo offers were in effect, the first list contains the beginning time, and the second list contains the ending time, and the last contains the type of offer (informational or discount/bogo)\n",
    "for i in range(len(received_offer_idxs)):\n",
    "\n",
    "    idx = received_offer_idxs[i]\n",
    "    offer_id = received_offer_ids[i]\n",
    "    offer_start_time = transcript.iloc[idx, 1]\n",
    "    offer_effective_days = portfolio[portfolio[\"id\"] == offer_id][\"duration\"].values[0]\n",
    "    offer_end_time = offer_start_time + offer_effective_days * 24\n",
    "    offer_time_list[0].append(offer_start_time)\n",
    "    offer_time_list[1].append(offer_end_time)\n",
    "    \n",
    "    informational_ids = list(portfolio[portfolio[\"offer_type_informational\"] == 1][\"id\"].values)\n",
    "    bogo_ids = list(portfolio[portfolio[\"offer_type_bogo\"] == 1][\"id\"].values)\n",
    "    \n",
    "    if offer_id in informational_ids:\n",
    "        offer_time_list[2].append(\"informational\")\n",
    "    elif offer_id in bogo_ids:\n",
    "        offer_time_list[2].append(\"bogo\")\n",
    "    else:\n",
    "        offer_time_list[2].append(\"discount\")\n",
    "    \n",
    "    print(\"start: {}, duration: {}, end: {}\".format(offer_start_time, offer_effective_days, offer_end_time))"
   ]
  },
  {
   "cell_type": "code",
   "execution_count": 486,
   "metadata": {},
   "outputs": [
    {
     "data": {
      "text/plain": [
       "[[0, 168, 408, 504, 576],\n",
       " [168, 336, 576, 744, 744],\n",
       " ['discount', 'discount', 'discount', 'discount', 'discount']]"
      ]
     },
     "execution_count": 486,
     "metadata": {},
     "output_type": "execute_result"
    }
   ],
   "source": [
    "offer_time_list"
   ]
  },
  {
   "cell_type": "code",
   "execution_count": 487,
   "metadata": {},
   "outputs": [],
   "source": [
    "# create a time table to fill when offers were in effect\n",
    "df_timetable = pd.DataFrame(0, index=np.arange(int(transcript[\"time\"].max())), columns=[\"discount\", \"bogo\", \"informational\", \"no_promotions\", \"transaction\", \"transaction_amount\"])"
   ]
  },
  {
   "cell_type": "code",
   "execution_count": 488,
   "metadata": {},
   "outputs": [],
   "source": [
    "# create a time table to fill when offers were in effect\n",
    "df_timetable = pd.DataFrame(0, index=np.arange(720), columns=[\"discount\", \"bogo\", \"informational\", \"no_promotions\", \"transaction\", \"transaction_amount\"])"
   ]
  },
  {
   "cell_type": "code",
   "execution_count": null,
   "metadata": {},
   "outputs": [],
   "source": []
  },
  {
   "cell_type": "code",
   "execution_count": 489,
   "metadata": {},
   "outputs": [],
   "source": [
    "for i in range(len(offer_time_list[0])):\n",
    "    offer_type = offer_time_list[2][i]\n",
    "    start_time = offer_time_list[0][i]\n",
    "    end_time = offer_time_list[1][i]\n",
    "    if offer_type == \"discount\":\n",
    "        df_timetable.iloc[start_time:end_time, 0] += 1\n",
    "    elif offer_type == \"bogo\":\n",
    "        df_timetable.iloc[start_time:end_time, 1] += 1\n",
    "    else:\n",
    "        df_timetable.iloc[start_time:end_time, 2] += 1\n",
    "        "
   ]
  },
  {
   "cell_type": "code",
   "execution_count": 490,
   "metadata": {},
   "outputs": [],
   "source": [
    "df_timetable[\"no_promotions\"] = np.where(((df_timetable[\"discount\"] + df_timetable[\"bogo\"] + df_timetable[\"informational\"]) == 0), 1, 0)"
   ]
  },
  {
   "cell_type": "code",
   "execution_count": 491,
   "metadata": {
    "scrolled": true
   },
   "outputs": [],
   "source": [
    "transaction_time = df_single_customer_transcript[df_single_customer_transcript[\"event_type_transaction\"] == 1][\"time\"].values\n",
    "\n",
    "transaction_amount = df_single_customer_transcript[df_single_customer_transcript[\"event_type_transaction\"] == 1][\"transaction_amount\"].values"
   ]
  },
  {
   "cell_type": "code",
   "execution_count": 492,
   "metadata": {},
   "outputs": [
    {
     "data": {
      "text/plain": [
       "array([ 78, 102, 222, 336, 426, 432, 438, 450, 474, 510, 552, 570, 600,\n",
       "       672, 678, 714])"
      ]
     },
     "execution_count": 492,
     "metadata": {},
     "output_type": "execute_result"
    }
   ],
   "source": [
    "transaction_time"
   ]
  },
  {
   "cell_type": "code",
   "execution_count": 493,
   "metadata": {},
   "outputs": [
    {
     "data": {
      "text/html": [
       "<div>\n",
       "<style scoped>\n",
       "    .dataframe tbody tr th:only-of-type {\n",
       "        vertical-align: middle;\n",
       "    }\n",
       "\n",
       "    .dataframe tbody tr th {\n",
       "        vertical-align: top;\n",
       "    }\n",
       "\n",
       "    .dataframe thead th {\n",
       "        text-align: right;\n",
       "    }\n",
       "</style>\n",
       "<table border=\"1\" class=\"dataframe\">\n",
       "  <thead>\n",
       "    <tr style=\"text-align: right;\">\n",
       "      <th></th>\n",
       "      <th>discount</th>\n",
       "      <th>bogo</th>\n",
       "      <th>informational</th>\n",
       "      <th>no_promotions</th>\n",
       "      <th>transaction</th>\n",
       "      <th>transaction_amount</th>\n",
       "    </tr>\n",
       "  </thead>\n",
       "  <tbody>\n",
       "    <tr>\n",
       "      <th>712</th>\n",
       "      <td>2</td>\n",
       "      <td>0</td>\n",
       "      <td>0</td>\n",
       "      <td>0</td>\n",
       "      <td>0</td>\n",
       "      <td>0</td>\n",
       "    </tr>\n",
       "    <tr>\n",
       "      <th>713</th>\n",
       "      <td>2</td>\n",
       "      <td>0</td>\n",
       "      <td>0</td>\n",
       "      <td>0</td>\n",
       "      <td>0</td>\n",
       "      <td>0</td>\n",
       "    </tr>\n",
       "    <tr>\n",
       "      <th>714</th>\n",
       "      <td>2</td>\n",
       "      <td>0</td>\n",
       "      <td>0</td>\n",
       "      <td>0</td>\n",
       "      <td>0</td>\n",
       "      <td>0</td>\n",
       "    </tr>\n",
       "  </tbody>\n",
       "</table>\n",
       "</div>"
      ],
      "text/plain": [
       "     discount  bogo  informational  no_promotions  transaction  \\\n",
       "712         2     0              0              0            0   \n",
       "713         2     0              0              0            0   \n",
       "714         2     0              0              0            0   \n",
       "\n",
       "     transaction_amount  \n",
       "712                   0  \n",
       "713                   0  \n",
       "714                   0  "
      ]
     },
     "execution_count": 493,
     "metadata": {},
     "output_type": "execute_result"
    }
   ],
   "source": [
    "df_timetable.iloc[712:715]"
   ]
  },
  {
   "cell_type": "code",
   "execution_count": 494,
   "metadata": {},
   "outputs": [],
   "source": [
    "for i in range(len(transaction_time)):\n",
    "    df_timetable.iloc[transaction_time[i], 4] = 1\n",
    "    df_timetable.iloc[transaction_time[i], 5] = transaction_amount[i]"
   ]
  },
  {
   "cell_type": "code",
   "execution_count": 495,
   "metadata": {},
   "outputs": [
    {
     "data": {
      "text/plain": [
       "array([ 78, 102, 222, 336, 426, 432, 438, 450, 474, 510, 552, 570, 600,\n",
       "       672, 678, 714])"
      ]
     },
     "execution_count": 495,
     "metadata": {},
     "output_type": "execute_result"
    }
   ],
   "source": [
    "transaction_time"
   ]
  },
  {
   "cell_type": "code",
   "execution_count": 496,
   "metadata": {},
   "outputs": [
    {
     "data": {
      "text/html": [
       "<div>\n",
       "<style scoped>\n",
       "    .dataframe tbody tr th:only-of-type {\n",
       "        vertical-align: middle;\n",
       "    }\n",
       "\n",
       "    .dataframe tbody tr th {\n",
       "        vertical-align: top;\n",
       "    }\n",
       "\n",
       "    .dataframe thead th {\n",
       "        text-align: right;\n",
       "    }\n",
       "</style>\n",
       "<table border=\"1\" class=\"dataframe\">\n",
       "  <thead>\n",
       "    <tr style=\"text-align: right;\">\n",
       "      <th></th>\n",
       "      <th>discount</th>\n",
       "      <th>bogo</th>\n",
       "      <th>informational</th>\n",
       "      <th>no_promotions</th>\n",
       "      <th>transaction</th>\n",
       "      <th>transaction_amount</th>\n",
       "    </tr>\n",
       "  </thead>\n",
       "  <tbody>\n",
       "    <tr>\n",
       "      <th>700</th>\n",
       "      <td>2</td>\n",
       "      <td>0</td>\n",
       "      <td>0</td>\n",
       "      <td>0</td>\n",
       "      <td>0</td>\n",
       "      <td>0.00</td>\n",
       "    </tr>\n",
       "    <tr>\n",
       "      <th>701</th>\n",
       "      <td>2</td>\n",
       "      <td>0</td>\n",
       "      <td>0</td>\n",
       "      <td>0</td>\n",
       "      <td>0</td>\n",
       "      <td>0.00</td>\n",
       "    </tr>\n",
       "    <tr>\n",
       "      <th>702</th>\n",
       "      <td>2</td>\n",
       "      <td>0</td>\n",
       "      <td>0</td>\n",
       "      <td>0</td>\n",
       "      <td>0</td>\n",
       "      <td>0.00</td>\n",
       "    </tr>\n",
       "    <tr>\n",
       "      <th>703</th>\n",
       "      <td>2</td>\n",
       "      <td>0</td>\n",
       "      <td>0</td>\n",
       "      <td>0</td>\n",
       "      <td>0</td>\n",
       "      <td>0.00</td>\n",
       "    </tr>\n",
       "    <tr>\n",
       "      <th>704</th>\n",
       "      <td>2</td>\n",
       "      <td>0</td>\n",
       "      <td>0</td>\n",
       "      <td>0</td>\n",
       "      <td>0</td>\n",
       "      <td>0.00</td>\n",
       "    </tr>\n",
       "    <tr>\n",
       "      <th>705</th>\n",
       "      <td>2</td>\n",
       "      <td>0</td>\n",
       "      <td>0</td>\n",
       "      <td>0</td>\n",
       "      <td>0</td>\n",
       "      <td>0.00</td>\n",
       "    </tr>\n",
       "    <tr>\n",
       "      <th>706</th>\n",
       "      <td>2</td>\n",
       "      <td>0</td>\n",
       "      <td>0</td>\n",
       "      <td>0</td>\n",
       "      <td>0</td>\n",
       "      <td>0.00</td>\n",
       "    </tr>\n",
       "    <tr>\n",
       "      <th>707</th>\n",
       "      <td>2</td>\n",
       "      <td>0</td>\n",
       "      <td>0</td>\n",
       "      <td>0</td>\n",
       "      <td>0</td>\n",
       "      <td>0.00</td>\n",
       "    </tr>\n",
       "    <tr>\n",
       "      <th>708</th>\n",
       "      <td>2</td>\n",
       "      <td>0</td>\n",
       "      <td>0</td>\n",
       "      <td>0</td>\n",
       "      <td>0</td>\n",
       "      <td>0.00</td>\n",
       "    </tr>\n",
       "    <tr>\n",
       "      <th>709</th>\n",
       "      <td>2</td>\n",
       "      <td>0</td>\n",
       "      <td>0</td>\n",
       "      <td>0</td>\n",
       "      <td>0</td>\n",
       "      <td>0.00</td>\n",
       "    </tr>\n",
       "    <tr>\n",
       "      <th>710</th>\n",
       "      <td>2</td>\n",
       "      <td>0</td>\n",
       "      <td>0</td>\n",
       "      <td>0</td>\n",
       "      <td>0</td>\n",
       "      <td>0.00</td>\n",
       "    </tr>\n",
       "    <tr>\n",
       "      <th>711</th>\n",
       "      <td>2</td>\n",
       "      <td>0</td>\n",
       "      <td>0</td>\n",
       "      <td>0</td>\n",
       "      <td>0</td>\n",
       "      <td>0.00</td>\n",
       "    </tr>\n",
       "    <tr>\n",
       "      <th>712</th>\n",
       "      <td>2</td>\n",
       "      <td>0</td>\n",
       "      <td>0</td>\n",
       "      <td>0</td>\n",
       "      <td>0</td>\n",
       "      <td>0.00</td>\n",
       "    </tr>\n",
       "    <tr>\n",
       "      <th>713</th>\n",
       "      <td>2</td>\n",
       "      <td>0</td>\n",
       "      <td>0</td>\n",
       "      <td>0</td>\n",
       "      <td>0</td>\n",
       "      <td>0.00</td>\n",
       "    </tr>\n",
       "    <tr>\n",
       "      <th>714</th>\n",
       "      <td>2</td>\n",
       "      <td>0</td>\n",
       "      <td>0</td>\n",
       "      <td>0</td>\n",
       "      <td>1</td>\n",
       "      <td>18.32</td>\n",
       "    </tr>\n",
       "    <tr>\n",
       "      <th>715</th>\n",
       "      <td>2</td>\n",
       "      <td>0</td>\n",
       "      <td>0</td>\n",
       "      <td>0</td>\n",
       "      <td>0</td>\n",
       "      <td>0.00</td>\n",
       "    </tr>\n",
       "    <tr>\n",
       "      <th>716</th>\n",
       "      <td>2</td>\n",
       "      <td>0</td>\n",
       "      <td>0</td>\n",
       "      <td>0</td>\n",
       "      <td>0</td>\n",
       "      <td>0.00</td>\n",
       "    </tr>\n",
       "    <tr>\n",
       "      <th>717</th>\n",
       "      <td>2</td>\n",
       "      <td>0</td>\n",
       "      <td>0</td>\n",
       "      <td>0</td>\n",
       "      <td>0</td>\n",
       "      <td>0.00</td>\n",
       "    </tr>\n",
       "    <tr>\n",
       "      <th>718</th>\n",
       "      <td>2</td>\n",
       "      <td>0</td>\n",
       "      <td>0</td>\n",
       "      <td>0</td>\n",
       "      <td>0</td>\n",
       "      <td>0.00</td>\n",
       "    </tr>\n",
       "    <tr>\n",
       "      <th>719</th>\n",
       "      <td>2</td>\n",
       "      <td>0</td>\n",
       "      <td>0</td>\n",
       "      <td>0</td>\n",
       "      <td>0</td>\n",
       "      <td>0.00</td>\n",
       "    </tr>\n",
       "  </tbody>\n",
       "</table>\n",
       "</div>"
      ],
      "text/plain": [
       "     discount  bogo  informational  no_promotions  transaction  \\\n",
       "700         2     0              0              0            0   \n",
       "701         2     0              0              0            0   \n",
       "702         2     0              0              0            0   \n",
       "703         2     0              0              0            0   \n",
       "704         2     0              0              0            0   \n",
       "705         2     0              0              0            0   \n",
       "706         2     0              0              0            0   \n",
       "707         2     0              0              0            0   \n",
       "708         2     0              0              0            0   \n",
       "709         2     0              0              0            0   \n",
       "710         2     0              0              0            0   \n",
       "711         2     0              0              0            0   \n",
       "712         2     0              0              0            0   \n",
       "713         2     0              0              0            0   \n",
       "714         2     0              0              0            1   \n",
       "715         2     0              0              0            0   \n",
       "716         2     0              0              0            0   \n",
       "717         2     0              0              0            0   \n",
       "718         2     0              0              0            0   \n",
       "719         2     0              0              0            0   \n",
       "\n",
       "     transaction_amount  \n",
       "700                0.00  \n",
       "701                0.00  \n",
       "702                0.00  \n",
       "703                0.00  \n",
       "704                0.00  \n",
       "705                0.00  \n",
       "706                0.00  \n",
       "707                0.00  \n",
       "708                0.00  \n",
       "709                0.00  \n",
       "710                0.00  \n",
       "711                0.00  \n",
       "712                0.00  \n",
       "713                0.00  \n",
       "714               18.32  \n",
       "715                0.00  \n",
       "716                0.00  \n",
       "717                0.00  \n",
       "718                0.00  \n",
       "719                0.00  "
      ]
     },
     "execution_count": 496,
     "metadata": {},
     "output_type": "execute_result"
    }
   ],
   "source": [
    "df_timetable.iloc[700:720]"
   ]
  },
  {
   "cell_type": "code",
   "execution_count": 497,
   "metadata": {},
   "outputs": [],
   "source": [
    "days_discount = df_timetable[(df_timetable[\"discount\"] > 0)][\"discount\"].count()\n",
    "\n",
    "days_bogo = df_timetable[(df_timetable[\"bogo\"] > 0)][\"bogo\"].count()\n",
    "\n",
    "days_informational = df_timetable[(df_timetable[\"informational\"] > 0)][\"informational\"].count()\n",
    "\n",
    "days_no_promotions = df_timetable[(df_timetable[\"no_promotions\"] > 0)][\"no_promotions\"].count()\n",
    "\n",
    "discount_transaction_counts = df_timetable[(df_timetable[\"discount\"] > 0) & (df_timetable[\"transaction\"] == 1)][\"discount\"].count()\n",
    "\n",
    "bogo_transaction_counts = df_timetable[(df_timetable[\"bogo\"] > 0) & (df_timetable[\"transaction\"] == 1)][\"bogo\"].count()\n",
    "\n",
    "informational_transaction_counts = df_timetable[(df_timetable[\"informational\"] > 0) & (df_timetable[\"transaction\"] == 1)][\"informational\"].count()\n",
    "\n",
    "no_promotions_transaction_counts = df_timetable[(df_timetable[\"no_promotions\"] > 0) & (df_timetable[\"transaction\"] == 1)][\"no_promotions\"].count()\n",
    "\n",
    "discout_transaction_amount = df_timetable[(df_timetable[\"discount\"] > 0) & (df_timetable[\"transaction\"] == 1)][\"transaction_amount\"].sum()\n",
    "\n",
    "bogo_transaction_amount = df_timetable[(df_timetable[\"bogo\"] > 0) & (df_timetable[\"transaction\"] == 1)][\"transaction_amount\"].sum()\n",
    "\n",
    "informational_transaction_amount = df_timetable[(df_timetable[\"informational\"] > 0) & (df_timetable[\"transaction\"] == 1)][\"transaction_amount\"].sum()\n",
    "\n",
    "no_promotions_transaction_amount = df_timetable[(df_timetable[\"no_promotions\"] > 0) & (df_timetable[\"transaction\"] == 1)][\"transaction_amount\"].sum()\n",
    "\n",
    "overlap_days = df_timetable[((df_timetable[\"discount\"] + df_timetable[\"bogo\"]) > 1)][\"discount\"].count()\n",
    "\n",
    "max_overlap = (df_timetable[\"discount\"] + df_timetable[\"bogo\"]).max()"
   ]
  },
  {
   "cell_type": "code",
   "execution_count": 498,
   "metadata": {},
   "outputs": [
    {
     "name": "stdout",
     "output_type": "stream",
     "text": [
      "days discount: 648\n",
      "days bogo: 0\n",
      "days info: 0\n",
      "days no promo: 72\n",
      "discount counts: 15\n",
      "bogo counts: 0\n",
      "info counts: 0\n",
      "no promo counts: 1\n",
      "disc amount: 292.05\n",
      "bogo amount: 0.0\n",
      "info amount: 0.0\n",
      "no promo amount: 8.63\n",
      "overlap days: 216\n",
      "max overlap: 2\n"
     ]
    }
   ],
   "source": [
    "print(\"days discount: {}\".format(days_discount))\n",
    "print(\"days bogo: {}\".format(days_bogo))\n",
    "print(\"days info: {}\".format(days_informational))\n",
    "print(\"days no promo: {}\".format(days_no_promotions))\n",
    "print(\"discount counts: {}\".format(discount_transaction_counts))\n",
    "print(\"bogo counts: {}\".format(bogo_transaction_counts))\n",
    "print(\"info counts: {}\".format(informational_transaction_counts))\n",
    "print(\"no promo counts: {}\".format(no_promotions_transaction_counts))\n",
    "print(\"disc amount: {}\".format(discout_transaction_amount))\n",
    "print(\"bogo amount: {}\".format(bogo_transaction_amount))\n",
    "print(\"info amount: {}\".format(informational_transaction_amount))\n",
    "print(\"no promo amount: {}\".format(no_promotions_transaction_amount))\n",
    "print(\"overlap days: {}\".format(overlap_days))\n",
    "print(\"max overlap: {}\".format(max_overlap))\n"
   ]
  },
  {
   "cell_type": "code",
   "execution_count": 442,
   "metadata": {},
   "outputs": [],
   "source": [
    "test_df = profile.iloc[8:10]"
   ]
  },
  {
   "cell_type": "code",
   "execution_count": 485,
   "metadata": {},
   "outputs": [
    {
     "name": "stdout",
     "output_type": "stream",
     "text": [
      "******************\n",
      "\n",
      "389bc3fa690240e798340f5a15918d5c\n",
      "days discount: 312\n",
      "days bogo: 504\n",
      "days info: 0\n",
      "days no promo: 48\n",
      "discount counts: 2\n",
      "bogo counts: 3\n",
      "info counts: 0\n",
      "no promo counts: 0\n",
      "disc amount: 26.89\n",
      "bogo amount: 36.43\n",
      "info amount: 0.0\n",
      "no promo amount: 0.0\n",
      "overlap days: 216\n",
      "max overlap: 2\n",
      "\n",
      "******************\n",
      "\n",
      "8974fc5686fe429db53ddde067b88302\n",
      "days discount: 0\n",
      "days bogo: 288\n",
      "days info: 72\n",
      "days no promo: 360\n",
      "discount counts: 0\n",
      "bogo counts: 4\n",
      "info counts: 0\n",
      "no promo counts: 2\n",
      "disc amount: 0.0\n",
      "bogo amount: 13.17\n",
      "info amount: 0.0\n",
      "no promo amount: 2.45\n",
      "overlap days: 120\n",
      "max overlap: 2\n",
      "\n",
      "0.11671233177185059\n"
     ]
    }
   ],
   "source": [
    "t1 = time.time()\n",
    "for row in test_df.itertuples():\n",
    "\n",
    "    days_discount, days_bogo, days_informational, days_no_promotions, discount_transaction_counts, bogo_transaction_counts, informational_transaction_counts, no_promotions_transaction_counts, discout_transaction_amount, bogo_transaction_amount, informational_transaction_amount, no_promotions_transaction_amount, overlap_days, max_overlap = compute_additional_customer_features(row.id)\n",
    "    print(\"******************\\n\")\n",
    "    print(row.id)\n",
    "    print(\"days discount: {}\".format(days_discount))\n",
    "    print(\"days bogo: {}\".format(days_bogo))\n",
    "    print(\"days info: {}\".format(days_informational))\n",
    "    print(\"days no promo: {}\".format(days_no_promotions))\n",
    "    print(\"discount counts: {}\".format(discount_transaction_counts))\n",
    "    print(\"bogo counts: {}\".format(bogo_transaction_counts))\n",
    "    print(\"info counts: {}\".format(informational_transaction_counts))\n",
    "    print(\"no promo counts: {}\".format(no_promotions_transaction_counts))\n",
    "    print(\"disc amount: {}\".format(discout_transaction_amount))\n",
    "    print(\"bogo amount: {}\".format(bogo_transaction_amount))\n",
    "    print(\"info amount: {}\".format(informational_transaction_amount))\n",
    "    print(\"no promo amount: {}\".format(no_promotions_transaction_amount))\n",
    "    print(\"overlap days: {}\".format(overlap_days))\n",
    "    print(\"max overlap: {}\".format(max_overlap))\n",
    "    print(\"\")\n",
    "print(time.time() - t1)"
   ]
  },
  {
   "cell_type": "code",
   "execution_count": null,
   "metadata": {},
   "outputs": [],
   "source": []
  }
 ],
 "metadata": {
  "kernelspec": {
   "display_name": "Python 3",
   "language": "python",
   "name": "python3"
  },
  "language_info": {
   "codemirror_mode": {
    "name": "ipython",
    "version": 3
   },
   "file_extension": ".py",
   "mimetype": "text/x-python",
   "name": "python",
   "nbconvert_exporter": "python",
   "pygments_lexer": "ipython3",
   "version": "3.7.2"
  }
 },
 "nbformat": 4,
 "nbformat_minor": 2
}
